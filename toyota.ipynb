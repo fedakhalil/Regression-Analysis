{
 "cells": [
  {
   "cell_type": "code",
   "execution_count": 1,
   "metadata": {},
   "outputs": [],
   "source": [
    "import numpy as np\n",
    "import pandas as pd\n",
    "import matplotlib.pyplot as plt\n",
    "import seaborn as sns"
   ]
  },
  {
   "cell_type": "code",
   "execution_count": 2,
   "metadata": {},
   "outputs": [],
   "source": [
    "from warnings import filterwarnings\n",
    "filterwarnings(\"ignore\")"
   ]
  },
  {
   "cell_type": "code",
   "execution_count": 3,
   "metadata": {},
   "outputs": [
    {
     "data": {
      "text/html": [
       "<div>\n",
       "<style scoped>\n",
       "    .dataframe tbody tr th:only-of-type {\n",
       "        vertical-align: middle;\n",
       "    }\n",
       "\n",
       "    .dataframe tbody tr th {\n",
       "        vertical-align: top;\n",
       "    }\n",
       "\n",
       "    .dataframe thead th {\n",
       "        text-align: right;\n",
       "    }\n",
       "</style>\n",
       "<table border=\"1\" class=\"dataframe\">\n",
       "  <thead>\n",
       "    <tr style=\"text-align: right;\">\n",
       "      <th></th>\n",
       "      <th>model</th>\n",
       "      <th>year</th>\n",
       "      <th>price</th>\n",
       "      <th>transmission</th>\n",
       "      <th>mileage</th>\n",
       "      <th>fuelType</th>\n",
       "      <th>tax</th>\n",
       "      <th>mpg</th>\n",
       "      <th>engineSize</th>\n",
       "    </tr>\n",
       "  </thead>\n",
       "  <tbody>\n",
       "    <tr>\n",
       "      <th>0</th>\n",
       "      <td>GT86</td>\n",
       "      <td>2016</td>\n",
       "      <td>16000</td>\n",
       "      <td>Manual</td>\n",
       "      <td>24089</td>\n",
       "      <td>Petrol</td>\n",
       "      <td>265</td>\n",
       "      <td>36.2</td>\n",
       "      <td>2.0</td>\n",
       "    </tr>\n",
       "    <tr>\n",
       "      <th>1</th>\n",
       "      <td>GT86</td>\n",
       "      <td>2017</td>\n",
       "      <td>15995</td>\n",
       "      <td>Manual</td>\n",
       "      <td>18615</td>\n",
       "      <td>Petrol</td>\n",
       "      <td>145</td>\n",
       "      <td>36.2</td>\n",
       "      <td>2.0</td>\n",
       "    </tr>\n",
       "    <tr>\n",
       "      <th>2</th>\n",
       "      <td>GT86</td>\n",
       "      <td>2015</td>\n",
       "      <td>13998</td>\n",
       "      <td>Manual</td>\n",
       "      <td>27469</td>\n",
       "      <td>Petrol</td>\n",
       "      <td>265</td>\n",
       "      <td>36.2</td>\n",
       "      <td>2.0</td>\n",
       "    </tr>\n",
       "    <tr>\n",
       "      <th>3</th>\n",
       "      <td>GT86</td>\n",
       "      <td>2017</td>\n",
       "      <td>18998</td>\n",
       "      <td>Manual</td>\n",
       "      <td>14736</td>\n",
       "      <td>Petrol</td>\n",
       "      <td>150</td>\n",
       "      <td>36.2</td>\n",
       "      <td>2.0</td>\n",
       "    </tr>\n",
       "    <tr>\n",
       "      <th>4</th>\n",
       "      <td>GT86</td>\n",
       "      <td>2017</td>\n",
       "      <td>17498</td>\n",
       "      <td>Manual</td>\n",
       "      <td>36284</td>\n",
       "      <td>Petrol</td>\n",
       "      <td>145</td>\n",
       "      <td>36.2</td>\n",
       "      <td>2.0</td>\n",
       "    </tr>\n",
       "  </tbody>\n",
       "</table>\n",
       "</div>"
      ],
      "text/plain": [
       "   model  year  price transmission  mileage fuelType  tax   mpg  engineSize\n",
       "0   GT86  2016  16000       Manual    24089   Petrol  265  36.2         2.0\n",
       "1   GT86  2017  15995       Manual    18615   Petrol  145  36.2         2.0\n",
       "2   GT86  2015  13998       Manual    27469   Petrol  265  36.2         2.0\n",
       "3   GT86  2017  18998       Manual    14736   Petrol  150  36.2         2.0\n",
       "4   GT86  2017  17498       Manual    36284   Petrol  145  36.2         2.0"
      ]
     },
     "execution_count": 3,
     "metadata": {},
     "output_type": "execute_result"
    }
   ],
   "source": [
    "data = pd.read_csv(\"dataset.csv\")\n",
    "df = data.copy()\n",
    "df.head()"
   ]
  },
  {
   "cell_type": "code",
   "execution_count": 4,
   "metadata": {},
   "outputs": [
    {
     "name": "stdout",
     "output_type": "stream",
     "text": [
      "<class 'pandas.core.frame.DataFrame'>\n",
      "RangeIndex: 6738 entries, 0 to 6737\n",
      "Data columns (total 9 columns):\n",
      " #   Column        Non-Null Count  Dtype  \n",
      "---  ------        --------------  -----  \n",
      " 0   model         6738 non-null   object \n",
      " 1   year          6738 non-null   int64  \n",
      " 2   price         6738 non-null   int64  \n",
      " 3   transmission  6738 non-null   object \n",
      " 4   mileage       6738 non-null   int64  \n",
      " 5   fuelType      6738 non-null   object \n",
      " 6   tax           6738 non-null   int64  \n",
      " 7   mpg           6738 non-null   float64\n",
      " 8   engineSize    6738 non-null   float64\n",
      "dtypes: float64(2), int64(4), object(3)\n",
      "memory usage: 473.9+ KB\n"
     ]
    }
   ],
   "source": [
    "df.info()"
   ]
  },
  {
   "cell_type": "code",
   "execution_count": 5,
   "metadata": {},
   "outputs": [
    {
     "data": {
      "text/plain": [
       " Yaris            2122\n",
       " Aygo             1961\n",
       " Auris             712\n",
       " C-HR              479\n",
       " RAV4              473\n",
       " Corolla           267\n",
       " Prius             232\n",
       " Avensis           115\n",
       " Verso             114\n",
       " Hilux              86\n",
       " GT86               73\n",
       " Land Cruiser       51\n",
       " PROACE VERSO       15\n",
       " Supra              12\n",
       " Camry              11\n",
       " IQ                  8\n",
       " Urban Cruiser       4\n",
       " Verso-S             3\n",
       "Name: model, dtype: int64"
      ]
     },
     "execution_count": 5,
     "metadata": {},
     "output_type": "execute_result"
    }
   ],
   "source": [
    "df[\"model\"].value_counts()"
   ]
  },
  {
   "cell_type": "code",
   "execution_count": 6,
   "metadata": {},
   "outputs": [
    {
     "data": {
      "text/plain": [
       "Manual       3826\n",
       "Automatic    2657\n",
       "Semi-Auto     254\n",
       "Other           1\n",
       "Name: transmission, dtype: int64"
      ]
     },
     "execution_count": 6,
     "metadata": {},
     "output_type": "execute_result"
    }
   ],
   "source": [
    "df[\"transmission\"].value_counts()"
   ]
  },
  {
   "cell_type": "code",
   "execution_count": 7,
   "metadata": {},
   "outputs": [
    {
     "data": {
      "text/html": [
       "<div>\n",
       "<style scoped>\n",
       "    .dataframe tbody tr th:only-of-type {\n",
       "        vertical-align: middle;\n",
       "    }\n",
       "\n",
       "    .dataframe tbody tr th {\n",
       "        vertical-align: top;\n",
       "    }\n",
       "\n",
       "    .dataframe thead th {\n",
       "        text-align: right;\n",
       "    }\n",
       "</style>\n",
       "<table border=\"1\" class=\"dataframe\">\n",
       "  <thead>\n",
       "    <tr style=\"text-align: right;\">\n",
       "      <th></th>\n",
       "      <th>model</th>\n",
       "      <th>year</th>\n",
       "      <th>price</th>\n",
       "      <th>transmission</th>\n",
       "      <th>mileage</th>\n",
       "      <th>fuelType</th>\n",
       "      <th>tax</th>\n",
       "      <th>mpg</th>\n",
       "      <th>engineSize</th>\n",
       "    </tr>\n",
       "  </thead>\n",
       "  <tbody>\n",
       "    <tr>\n",
       "      <th>2458</th>\n",
       "      <td>Yaris</td>\n",
       "      <td>2015</td>\n",
       "      <td>12795</td>\n",
       "      <td>Other</td>\n",
       "      <td>16733</td>\n",
       "      <td>Hybrid</td>\n",
       "      <td>0</td>\n",
       "      <td>78.0</td>\n",
       "      <td>1.5</td>\n",
       "    </tr>\n",
       "  </tbody>\n",
       "</table>\n",
       "</div>"
      ],
      "text/plain": [
       "       model  year  price transmission  mileage fuelType  tax   mpg  \\\n",
       "2458   Yaris  2015  12795        Other    16733   Hybrid    0  78.0   \n",
       "\n",
       "      engineSize  \n",
       "2458         1.5  "
      ]
     },
     "execution_count": 7,
     "metadata": {},
     "output_type": "execute_result"
    }
   ],
   "source": [
    "df[df[\"transmission\"] == \"Other\"]"
   ]
  },
  {
   "cell_type": "code",
   "execution_count": 8,
   "metadata": {},
   "outputs": [
    {
     "data": {
      "text/html": [
       "<div>\n",
       "<style scoped>\n",
       "    .dataframe tbody tr th:only-of-type {\n",
       "        vertical-align: middle;\n",
       "    }\n",
       "\n",
       "    .dataframe tbody tr th {\n",
       "        vertical-align: top;\n",
       "    }\n",
       "\n",
       "    .dataframe thead th {\n",
       "        text-align: right;\n",
       "    }\n",
       "</style>\n",
       "<table border=\"1\" class=\"dataframe\">\n",
       "  <thead>\n",
       "    <tr style=\"text-align: right;\">\n",
       "      <th></th>\n",
       "      <th>model</th>\n",
       "      <th>year</th>\n",
       "      <th>price</th>\n",
       "      <th>transmission</th>\n",
       "      <th>mileage</th>\n",
       "      <th>fuelType</th>\n",
       "      <th>tax</th>\n",
       "      <th>mpg</th>\n",
       "      <th>engineSize</th>\n",
       "    </tr>\n",
       "  </thead>\n",
       "  <tbody>\n",
       "    <tr>\n",
       "      <th>0</th>\n",
       "      <td>GT86</td>\n",
       "      <td>2016</td>\n",
       "      <td>16000</td>\n",
       "      <td>Manual</td>\n",
       "      <td>24089</td>\n",
       "      <td>Petrol</td>\n",
       "      <td>265</td>\n",
       "      <td>36.2</td>\n",
       "      <td>2.0</td>\n",
       "    </tr>\n",
       "    <tr>\n",
       "      <th>1</th>\n",
       "      <td>GT86</td>\n",
       "      <td>2017</td>\n",
       "      <td>15995</td>\n",
       "      <td>Manual</td>\n",
       "      <td>18615</td>\n",
       "      <td>Petrol</td>\n",
       "      <td>145</td>\n",
       "      <td>36.2</td>\n",
       "      <td>2.0</td>\n",
       "    </tr>\n",
       "    <tr>\n",
       "      <th>2</th>\n",
       "      <td>GT86</td>\n",
       "      <td>2015</td>\n",
       "      <td>13998</td>\n",
       "      <td>Manual</td>\n",
       "      <td>27469</td>\n",
       "      <td>Petrol</td>\n",
       "      <td>265</td>\n",
       "      <td>36.2</td>\n",
       "      <td>2.0</td>\n",
       "    </tr>\n",
       "    <tr>\n",
       "      <th>3</th>\n",
       "      <td>GT86</td>\n",
       "      <td>2017</td>\n",
       "      <td>18998</td>\n",
       "      <td>Manual</td>\n",
       "      <td>14736</td>\n",
       "      <td>Petrol</td>\n",
       "      <td>150</td>\n",
       "      <td>36.2</td>\n",
       "      <td>2.0</td>\n",
       "    </tr>\n",
       "    <tr>\n",
       "      <th>4</th>\n",
       "      <td>GT86</td>\n",
       "      <td>2017</td>\n",
       "      <td>17498</td>\n",
       "      <td>Manual</td>\n",
       "      <td>36284</td>\n",
       "      <td>Petrol</td>\n",
       "      <td>145</td>\n",
       "      <td>36.2</td>\n",
       "      <td>2.0</td>\n",
       "    </tr>\n",
       "    <tr>\n",
       "      <th>...</th>\n",
       "      <td>...</td>\n",
       "      <td>...</td>\n",
       "      <td>...</td>\n",
       "      <td>...</td>\n",
       "      <td>...</td>\n",
       "      <td>...</td>\n",
       "      <td>...</td>\n",
       "      <td>...</td>\n",
       "      <td>...</td>\n",
       "    </tr>\n",
       "    <tr>\n",
       "      <th>6733</th>\n",
       "      <td>IQ</td>\n",
       "      <td>2011</td>\n",
       "      <td>5500</td>\n",
       "      <td>Automatic</td>\n",
       "      <td>30000</td>\n",
       "      <td>Petrol</td>\n",
       "      <td>20</td>\n",
       "      <td>58.9</td>\n",
       "      <td>1.0</td>\n",
       "    </tr>\n",
       "    <tr>\n",
       "      <th>6734</th>\n",
       "      <td>Urban Cruiser</td>\n",
       "      <td>2011</td>\n",
       "      <td>4985</td>\n",
       "      <td>Manual</td>\n",
       "      <td>36154</td>\n",
       "      <td>Petrol</td>\n",
       "      <td>125</td>\n",
       "      <td>50.4</td>\n",
       "      <td>1.3</td>\n",
       "    </tr>\n",
       "    <tr>\n",
       "      <th>6735</th>\n",
       "      <td>Urban Cruiser</td>\n",
       "      <td>2012</td>\n",
       "      <td>4995</td>\n",
       "      <td>Manual</td>\n",
       "      <td>46000</td>\n",
       "      <td>Diesel</td>\n",
       "      <td>125</td>\n",
       "      <td>57.6</td>\n",
       "      <td>1.4</td>\n",
       "    </tr>\n",
       "    <tr>\n",
       "      <th>6736</th>\n",
       "      <td>Urban Cruiser</td>\n",
       "      <td>2011</td>\n",
       "      <td>3995</td>\n",
       "      <td>Manual</td>\n",
       "      <td>60700</td>\n",
       "      <td>Petrol</td>\n",
       "      <td>125</td>\n",
       "      <td>50.4</td>\n",
       "      <td>1.3</td>\n",
       "    </tr>\n",
       "    <tr>\n",
       "      <th>6737</th>\n",
       "      <td>Urban Cruiser</td>\n",
       "      <td>2011</td>\n",
       "      <td>4495</td>\n",
       "      <td>Manual</td>\n",
       "      <td>45128</td>\n",
       "      <td>Petrol</td>\n",
       "      <td>125</td>\n",
       "      <td>50.4</td>\n",
       "      <td>1.3</td>\n",
       "    </tr>\n",
       "  </tbody>\n",
       "</table>\n",
       "<p>6737 rows × 9 columns</p>\n",
       "</div>"
      ],
      "text/plain": [
       "               model  year  price transmission  mileage fuelType  tax   mpg  \\\n",
       "0               GT86  2016  16000       Manual    24089   Petrol  265  36.2   \n",
       "1               GT86  2017  15995       Manual    18615   Petrol  145  36.2   \n",
       "2               GT86  2015  13998       Manual    27469   Petrol  265  36.2   \n",
       "3               GT86  2017  18998       Manual    14736   Petrol  150  36.2   \n",
       "4               GT86  2017  17498       Manual    36284   Petrol  145  36.2   \n",
       "...              ...   ...    ...          ...      ...      ...  ...   ...   \n",
       "6733              IQ  2011   5500    Automatic    30000   Petrol   20  58.9   \n",
       "6734   Urban Cruiser  2011   4985       Manual    36154   Petrol  125  50.4   \n",
       "6735   Urban Cruiser  2012   4995       Manual    46000   Diesel  125  57.6   \n",
       "6736   Urban Cruiser  2011   3995       Manual    60700   Petrol  125  50.4   \n",
       "6737   Urban Cruiser  2011   4495       Manual    45128   Petrol  125  50.4   \n",
       "\n",
       "      engineSize  \n",
       "0            2.0  \n",
       "1            2.0  \n",
       "2            2.0  \n",
       "3            2.0  \n",
       "4            2.0  \n",
       "...          ...  \n",
       "6733         1.0  \n",
       "6734         1.3  \n",
       "6735         1.4  \n",
       "6736         1.3  \n",
       "6737         1.3  \n",
       "\n",
       "[6737 rows x 9 columns]"
      ]
     },
     "execution_count": 8,
     "metadata": {},
     "output_type": "execute_result"
    }
   ],
   "source": [
    "# drop row which consist of \"Other\" to get better predict, because it has just single value\n",
    "\n",
    "df = df.drop(index = df[df[\"transmission\"] == \"Other\"].index)\n",
    "df"
   ]
  },
  {
   "cell_type": "code",
   "execution_count": 9,
   "metadata": {},
   "outputs": [
    {
     "data": {
      "text/plain": [
       "Petrol    4087\n",
       "Hybrid    2042\n",
       "Diesel     503\n",
       "Other      105\n",
       "Name: fuelType, dtype: int64"
      ]
     },
     "execution_count": 9,
     "metadata": {},
     "output_type": "execute_result"
    }
   ],
   "source": [
    "df[\"fuelType\"].value_counts()"
   ]
  },
  {
   "cell_type": "code",
   "execution_count": 10,
   "metadata": {},
   "outputs": [
    {
     "data": {
      "text/html": [
       "<div>\n",
       "<style scoped>\n",
       "    .dataframe tbody tr th:only-of-type {\n",
       "        vertical-align: middle;\n",
       "    }\n",
       "\n",
       "    .dataframe tbody tr th {\n",
       "        vertical-align: top;\n",
       "    }\n",
       "\n",
       "    .dataframe thead th {\n",
       "        text-align: right;\n",
       "    }\n",
       "</style>\n",
       "<table border=\"1\" class=\"dataframe\">\n",
       "  <thead>\n",
       "    <tr style=\"text-align: right;\">\n",
       "      <th></th>\n",
       "      <th>count</th>\n",
       "      <th>mean</th>\n",
       "      <th>std</th>\n",
       "      <th>min</th>\n",
       "      <th>25%</th>\n",
       "      <th>50%</th>\n",
       "      <th>75%</th>\n",
       "      <th>max</th>\n",
       "    </tr>\n",
       "  </thead>\n",
       "  <tbody>\n",
       "    <tr>\n",
       "      <th>year</th>\n",
       "      <td>6737.0</td>\n",
       "      <td>2016.748404</td>\n",
       "      <td>2.204123</td>\n",
       "      <td>1998.0</td>\n",
       "      <td>2016.0</td>\n",
       "      <td>2017.0</td>\n",
       "      <td>2018.0</td>\n",
       "      <td>2020.0</td>\n",
       "    </tr>\n",
       "    <tr>\n",
       "      <th>price</th>\n",
       "      <td>6737.0</td>\n",
       "      <td>12522.350601</td>\n",
       "      <td>6345.487678</td>\n",
       "      <td>850.0</td>\n",
       "      <td>8290.0</td>\n",
       "      <td>10795.0</td>\n",
       "      <td>14995.0</td>\n",
       "      <td>59995.0</td>\n",
       "    </tr>\n",
       "    <tr>\n",
       "      <th>mileage</th>\n",
       "      <td>6737.0</td>\n",
       "      <td>22858.322992</td>\n",
       "      <td>19126.738154</td>\n",
       "      <td>2.0</td>\n",
       "      <td>9446.0</td>\n",
       "      <td>18514.0</td>\n",
       "      <td>31065.0</td>\n",
       "      <td>174419.0</td>\n",
       "    </tr>\n",
       "    <tr>\n",
       "      <th>tax</th>\n",
       "      <td>6737.0</td>\n",
       "      <td>94.711296</td>\n",
       "      <td>73.877249</td>\n",
       "      <td>0.0</td>\n",
       "      <td>0.0</td>\n",
       "      <td>135.0</td>\n",
       "      <td>145.0</td>\n",
       "      <td>565.0</td>\n",
       "    </tr>\n",
       "    <tr>\n",
       "      <th>mpg</th>\n",
       "      <td>6737.0</td>\n",
       "      <td>63.040003</td>\n",
       "      <td>15.836837</td>\n",
       "      <td>2.8</td>\n",
       "      <td>55.4</td>\n",
       "      <td>62.8</td>\n",
       "      <td>69.0</td>\n",
       "      <td>235.0</td>\n",
       "    </tr>\n",
       "    <tr>\n",
       "      <th>engineSize</th>\n",
       "      <td>6737.0</td>\n",
       "      <td>1.471293</td>\n",
       "      <td>0.436191</td>\n",
       "      <td>0.0</td>\n",
       "      <td>1.0</td>\n",
       "      <td>1.5</td>\n",
       "      <td>1.8</td>\n",
       "      <td>4.5</td>\n",
       "    </tr>\n",
       "  </tbody>\n",
       "</table>\n",
       "</div>"
      ],
      "text/plain": [
       "             count          mean           std     min     25%      50%  \\\n",
       "year        6737.0   2016.748404      2.204123  1998.0  2016.0   2017.0   \n",
       "price       6737.0  12522.350601   6345.487678   850.0  8290.0  10795.0   \n",
       "mileage     6737.0  22858.322992  19126.738154     2.0  9446.0  18514.0   \n",
       "tax         6737.0     94.711296     73.877249     0.0     0.0    135.0   \n",
       "mpg         6737.0     63.040003     15.836837     2.8    55.4     62.8   \n",
       "engineSize  6737.0      1.471293      0.436191     0.0     1.0      1.5   \n",
       "\n",
       "                75%       max  \n",
       "year         2018.0    2020.0  \n",
       "price       14995.0   59995.0  \n",
       "mileage     31065.0  174419.0  \n",
       "tax           145.0     565.0  \n",
       "mpg            69.0     235.0  \n",
       "engineSize      1.8       4.5  "
      ]
     },
     "execution_count": 10,
     "metadata": {},
     "output_type": "execute_result"
    }
   ],
   "source": [
    "df.describe().T"
   ]
  },
  {
   "cell_type": "code",
   "execution_count": 11,
   "metadata": {},
   "outputs": [
    {
     "data": {
      "text/html": [
       "<div>\n",
       "<style scoped>\n",
       "    .dataframe tbody tr th:only-of-type {\n",
       "        vertical-align: middle;\n",
       "    }\n",
       "\n",
       "    .dataframe tbody tr th {\n",
       "        vertical-align: top;\n",
       "    }\n",
       "\n",
       "    .dataframe thead th {\n",
       "        text-align: right;\n",
       "    }\n",
       "</style>\n",
       "<table border=\"1\" class=\"dataframe\">\n",
       "  <thead>\n",
       "    <tr style=\"text-align: right;\">\n",
       "      <th></th>\n",
       "      <th>year</th>\n",
       "      <th>price</th>\n",
       "      <th>mileage</th>\n",
       "      <th>tax</th>\n",
       "      <th>mpg</th>\n",
       "      <th>engineSize</th>\n",
       "    </tr>\n",
       "  </thead>\n",
       "  <tbody>\n",
       "    <tr>\n",
       "      <th>year</th>\n",
       "      <td>1.000000</td>\n",
       "      <td>0.420984</td>\n",
       "      <td>-0.727826</td>\n",
       "      <td>0.283352</td>\n",
       "      <td>-0.020499</td>\n",
       "      <td>-0.045561</td>\n",
       "    </tr>\n",
       "    <tr>\n",
       "      <th>price</th>\n",
       "      <td>0.420984</td>\n",
       "      <td>1.000000</td>\n",
       "      <td>-0.297936</td>\n",
       "      <td>0.214533</td>\n",
       "      <td>-0.039919</td>\n",
       "      <td>0.727592</td>\n",
       "    </tr>\n",
       "    <tr>\n",
       "      <th>mileage</th>\n",
       "      <td>-0.727826</td>\n",
       "      <td>-0.297936</td>\n",
       "      <td>1.000000</td>\n",
       "      <td>-0.205372</td>\n",
       "      <td>0.044937</td>\n",
       "      <td>0.182619</td>\n",
       "    </tr>\n",
       "    <tr>\n",
       "      <th>tax</th>\n",
       "      <td>0.283352</td>\n",
       "      <td>0.214533</td>\n",
       "      <td>-0.205372</td>\n",
       "      <td>1.000000</td>\n",
       "      <td>-0.430193</td>\n",
       "      <td>0.155758</td>\n",
       "    </tr>\n",
       "    <tr>\n",
       "      <th>mpg</th>\n",
       "      <td>-0.020499</td>\n",
       "      <td>-0.039919</td>\n",
       "      <td>0.044937</td>\n",
       "      <td>-0.430193</td>\n",
       "      <td>1.000000</td>\n",
       "      <td>-0.106885</td>\n",
       "    </tr>\n",
       "    <tr>\n",
       "      <th>engineSize</th>\n",
       "      <td>-0.045561</td>\n",
       "      <td>0.727592</td>\n",
       "      <td>0.182619</td>\n",
       "      <td>0.155758</td>\n",
       "      <td>-0.106885</td>\n",
       "      <td>1.000000</td>\n",
       "    </tr>\n",
       "  </tbody>\n",
       "</table>\n",
       "</div>"
      ],
      "text/plain": [
       "                year     price   mileage       tax       mpg  engineSize\n",
       "year        1.000000  0.420984 -0.727826  0.283352 -0.020499   -0.045561\n",
       "price       0.420984  1.000000 -0.297936  0.214533 -0.039919    0.727592\n",
       "mileage    -0.727826 -0.297936  1.000000 -0.205372  0.044937    0.182619\n",
       "tax         0.283352  0.214533 -0.205372  1.000000 -0.430193    0.155758\n",
       "mpg        -0.020499 -0.039919  0.044937 -0.430193  1.000000   -0.106885\n",
       "engineSize -0.045561  0.727592  0.182619  0.155758 -0.106885    1.000000"
      ]
     },
     "execution_count": 11,
     "metadata": {},
     "output_type": "execute_result"
    }
   ],
   "source": [
    "df.corr()"
   ]
  },
  {
   "cell_type": "code",
   "execution_count": 12,
   "metadata": {},
   "outputs": [
    {
     "data": {
      "image/png": "[encoded data removed]",
      "text/plain": [
       "<Figure size 692.625x576 with 1 Axes>"
      ]
     },
     "metadata": {
      "needs_background": "light"
     },
     "output_type": "display_data"
    }
   ],
   "source": [
    "# price range for model names of car\n",
    "\n",
    "(sns.FacetGrid(df, hue = \"model\", height = 8)\n",
    ".map(sns.kdeplot, \"price\", shade = True)\n",
    "    .add_legend());"
   ]
  },
  {
   "cell_type": "code",
   "execution_count": null,
   "metadata": {},
   "outputs": [],
   "source": []
  },
  {
   "cell_type": "markdown",
   "metadata": {},
   "source": [
    "## Data Preprocessing"
   ]
  },
  {
   "cell_type": "code",
   "execution_count": 13,
   "metadata": {},
   "outputs": [],
   "source": [
    "from sklearn.preprocessing import StandardScaler\n",
    "scaler = StandardScaler()"
   ]
  },
  {
   "cell_type": "code",
   "execution_count": 14,
   "metadata": {},
   "outputs": [],
   "source": [
    "# save and select required values\n",
    "\n",
    "price = df[\"price\"]\n",
    "df_columns = df.drop([\"price\"], axis = 1).select_dtypes([\"int64\", \"float64\"]).columns\n",
    "numeric_data = df.drop([\"price\"], axis = 1).select_dtypes([\"int64\", \"float64\"])"
   ]
  },
  {
   "cell_type": "code",
   "execution_count": 15,
   "metadata": {},
   "outputs": [
    {
     "data": {
      "text/plain": [
       "array([[-0.33957269,  0.06434805,  2.30519336, -1.69490885,  1.21219039],\n",
       "       [ 0.11415623, -0.2218694 ,  0.68075676, -1.69490885,  1.21219039],\n",
       "       [-0.79330161,  0.24107714,  2.30519336, -1.69490885,  1.21219039],\n",
       "       ...,\n",
       "       [-2.15448838,  1.21000217,  0.41001733, -0.34352862, -0.16345631],\n",
       "       [-2.6082173 ,  1.97861682,  0.41001733, -0.79819861, -0.39273077],\n",
       "       [-2.6082173 ,  1.16440816,  0.41001733, -0.79819861, -0.39273077]])"
      ]
     },
     "execution_count": 15,
     "metadata": {},
     "output_type": "execute_result"
    }
   ],
   "source": [
    "# scale data\n",
    "\n",
    "scaled_data = scaler.fit_transform(numeric_data)\n",
    "scaled_data"
   ]
  },
  {
   "cell_type": "code",
   "execution_count": 16,
   "metadata": {},
   "outputs": [
    {
     "data": {
      "text/html": [
       "<div>\n",
       "<style scoped>\n",
       "    .dataframe tbody tr th:only-of-type {\n",
       "        vertical-align: middle;\n",
       "    }\n",
       "\n",
       "    .dataframe tbody tr th {\n",
       "        vertical-align: top;\n",
       "    }\n",
       "\n",
       "    .dataframe thead th {\n",
       "        text-align: right;\n",
       "    }\n",
       "</style>\n",
       "<table border=\"1\" class=\"dataframe\">\n",
       "  <thead>\n",
       "    <tr style=\"text-align: right;\">\n",
       "      <th></th>\n",
       "      <th>model</th>\n",
       "      <th>transmission</th>\n",
       "      <th>fuelType</th>\n",
       "    </tr>\n",
       "  </thead>\n",
       "  <tbody>\n",
       "    <tr>\n",
       "      <th>0</th>\n",
       "      <td>GT86</td>\n",
       "      <td>Manual</td>\n",
       "      <td>Petrol</td>\n",
       "    </tr>\n",
       "    <tr>\n",
       "      <th>1</th>\n",
       "      <td>GT86</td>\n",
       "      <td>Manual</td>\n",
       "      <td>Petrol</td>\n",
       "    </tr>\n",
       "    <tr>\n",
       "      <th>2</th>\n",
       "      <td>GT86</td>\n",
       "      <td>Manual</td>\n",
       "      <td>Petrol</td>\n",
       "    </tr>\n",
       "    <tr>\n",
       "      <th>3</th>\n",
       "      <td>GT86</td>\n",
       "      <td>Manual</td>\n",
       "      <td>Petrol</td>\n",
       "    </tr>\n",
       "    <tr>\n",
       "      <th>4</th>\n",
       "      <td>GT86</td>\n",
       "      <td>Manual</td>\n",
       "      <td>Petrol</td>\n",
       "    </tr>\n",
       "    <tr>\n",
       "      <th>...</th>\n",
       "      <td>...</td>\n",
       "      <td>...</td>\n",
       "      <td>...</td>\n",
       "    </tr>\n",
       "    <tr>\n",
       "      <th>6733</th>\n",
       "      <td>IQ</td>\n",
       "      <td>Automatic</td>\n",
       "      <td>Petrol</td>\n",
       "    </tr>\n",
       "    <tr>\n",
       "      <th>6734</th>\n",
       "      <td>Urban Cruiser</td>\n",
       "      <td>Manual</td>\n",
       "      <td>Petrol</td>\n",
       "    </tr>\n",
       "    <tr>\n",
       "      <th>6735</th>\n",
       "      <td>Urban Cruiser</td>\n",
       "      <td>Manual</td>\n",
       "      <td>Diesel</td>\n",
       "    </tr>\n",
       "    <tr>\n",
       "      <th>6736</th>\n",
       "      <td>Urban Cruiser</td>\n",
       "      <td>Manual</td>\n",
       "      <td>Petrol</td>\n",
       "    </tr>\n",
       "    <tr>\n",
       "      <th>6737</th>\n",
       "      <td>Urban Cruiser</td>\n",
       "      <td>Manual</td>\n",
       "      <td>Petrol</td>\n",
       "    </tr>\n",
       "  </tbody>\n",
       "</table>\n",
       "<p>6737 rows × 3 columns</p>\n",
       "</div>"
      ],
      "text/plain": [
       "               model transmission fuelType\n",
       "0               GT86       Manual   Petrol\n",
       "1               GT86       Manual   Petrol\n",
       "2               GT86       Manual   Petrol\n",
       "3               GT86       Manual   Petrol\n",
       "4               GT86       Manual   Petrol\n",
       "...              ...          ...      ...\n",
       "6733              IQ    Automatic   Petrol\n",
       "6734   Urban Cruiser       Manual   Petrol\n",
       "6735   Urban Cruiser       Manual   Diesel\n",
       "6736   Urban Cruiser       Manual   Petrol\n",
       "6737   Urban Cruiser       Manual   Petrol\n",
       "\n",
       "[6737 rows x 3 columns]"
      ]
     },
     "execution_count": 16,
     "metadata": {},
     "output_type": "execute_result"
    }
   ],
   "source": [
    "df_new = df.drop(df.select_dtypes([\"int64\", \"float64\"]), axis = 1)\n",
    "df_new"
   ]
  },
  {
   "cell_type": "code",
   "execution_count": 17,
   "metadata": {},
   "outputs": [],
   "source": [
    "# combine data with scaled data\n",
    "\n",
    "df_new[df_columns] = scaled_data\n",
    "df_new[\"price\"] = price"
   ]
  },
  {
   "cell_type": "code",
   "execution_count": 18,
   "metadata": {},
   "outputs": [
    {
     "data": {
      "text/html": [
       "<div>\n",
       "<style scoped>\n",
       "    .dataframe tbody tr th:only-of-type {\n",
       "        vertical-align: middle;\n",
       "    }\n",
       "\n",
       "    .dataframe tbody tr th {\n",
       "        vertical-align: top;\n",
       "    }\n",
       "\n",
       "    .dataframe thead th {\n",
       "        text-align: right;\n",
       "    }\n",
       "</style>\n",
       "<table border=\"1\" class=\"dataframe\">\n",
       "  <thead>\n",
       "    <tr style=\"text-align: right;\">\n",
       "      <th></th>\n",
       "      <th>model</th>\n",
       "      <th>transmission</th>\n",
       "      <th>fuelType</th>\n",
       "      <th>year</th>\n",
       "      <th>mileage</th>\n",
       "      <th>tax</th>\n",
       "      <th>mpg</th>\n",
       "      <th>engineSize</th>\n",
       "      <th>price</th>\n",
       "    </tr>\n",
       "  </thead>\n",
       "  <tbody>\n",
       "    <tr>\n",
       "      <th>0</th>\n",
       "      <td>GT86</td>\n",
       "      <td>Manual</td>\n",
       "      <td>Petrol</td>\n",
       "      <td>-0.339573</td>\n",
       "      <td>0.064348</td>\n",
       "      <td>2.305193</td>\n",
       "      <td>-1.694909</td>\n",
       "      <td>1.212190</td>\n",
       "      <td>16000</td>\n",
       "    </tr>\n",
       "    <tr>\n",
       "      <th>1</th>\n",
       "      <td>GT86</td>\n",
       "      <td>Manual</td>\n",
       "      <td>Petrol</td>\n",
       "      <td>0.114156</td>\n",
       "      <td>-0.221869</td>\n",
       "      <td>0.680757</td>\n",
       "      <td>-1.694909</td>\n",
       "      <td>1.212190</td>\n",
       "      <td>15995</td>\n",
       "    </tr>\n",
       "    <tr>\n",
       "      <th>2</th>\n",
       "      <td>GT86</td>\n",
       "      <td>Manual</td>\n",
       "      <td>Petrol</td>\n",
       "      <td>-0.793302</td>\n",
       "      <td>0.241077</td>\n",
       "      <td>2.305193</td>\n",
       "      <td>-1.694909</td>\n",
       "      <td>1.212190</td>\n",
       "      <td>13998</td>\n",
       "    </tr>\n",
       "    <tr>\n",
       "      <th>3</th>\n",
       "      <td>GT86</td>\n",
       "      <td>Manual</td>\n",
       "      <td>Petrol</td>\n",
       "      <td>0.114156</td>\n",
       "      <td>-0.424690</td>\n",
       "      <td>0.748442</td>\n",
       "      <td>-1.694909</td>\n",
       "      <td>1.212190</td>\n",
       "      <td>18998</td>\n",
       "    </tr>\n",
       "    <tr>\n",
       "      <th>4</th>\n",
       "      <td>GT86</td>\n",
       "      <td>Manual</td>\n",
       "      <td>Petrol</td>\n",
       "      <td>0.114156</td>\n",
       "      <td>0.701984</td>\n",
       "      <td>0.680757</td>\n",
       "      <td>-1.694909</td>\n",
       "      <td>1.212190</td>\n",
       "      <td>17498</td>\n",
       "    </tr>\n",
       "    <tr>\n",
       "      <th>...</th>\n",
       "      <td>...</td>\n",
       "      <td>...</td>\n",
       "      <td>...</td>\n",
       "      <td>...</td>\n",
       "      <td>...</td>\n",
       "      <td>...</td>\n",
       "      <td>...</td>\n",
       "      <td>...</td>\n",
       "      <td>...</td>\n",
       "    </tr>\n",
       "    <tr>\n",
       "      <th>6733</th>\n",
       "      <td>IQ</td>\n",
       "      <td>Automatic</td>\n",
       "      <td>Petrol</td>\n",
       "      <td>-2.608217</td>\n",
       "      <td>0.373415</td>\n",
       "      <td>-1.011365</td>\n",
       "      <td>-0.261435</td>\n",
       "      <td>-1.080554</td>\n",
       "      <td>5500</td>\n",
       "    </tr>\n",
       "    <tr>\n",
       "      <th>6734</th>\n",
       "      <td>Urban Cruiser</td>\n",
       "      <td>Manual</td>\n",
       "      <td>Petrol</td>\n",
       "      <td>-2.608217</td>\n",
       "      <td>0.695187</td>\n",
       "      <td>0.410017</td>\n",
       "      <td>-0.798199</td>\n",
       "      <td>-0.392731</td>\n",
       "      <td>4985</td>\n",
       "    </tr>\n",
       "    <tr>\n",
       "      <th>6735</th>\n",
       "      <td>Urban Cruiser</td>\n",
       "      <td>Manual</td>\n",
       "      <td>Diesel</td>\n",
       "      <td>-2.154488</td>\n",
       "      <td>1.210002</td>\n",
       "      <td>0.410017</td>\n",
       "      <td>-0.343529</td>\n",
       "      <td>-0.163456</td>\n",
       "      <td>4995</td>\n",
       "    </tr>\n",
       "    <tr>\n",
       "      <th>6736</th>\n",
       "      <td>Urban Cruiser</td>\n",
       "      <td>Manual</td>\n",
       "      <td>Petrol</td>\n",
       "      <td>-2.608217</td>\n",
       "      <td>1.978617</td>\n",
       "      <td>0.410017</td>\n",
       "      <td>-0.798199</td>\n",
       "      <td>-0.392731</td>\n",
       "      <td>3995</td>\n",
       "    </tr>\n",
       "    <tr>\n",
       "      <th>6737</th>\n",
       "      <td>Urban Cruiser</td>\n",
       "      <td>Manual</td>\n",
       "      <td>Petrol</td>\n",
       "      <td>-2.608217</td>\n",
       "      <td>1.164408</td>\n",
       "      <td>0.410017</td>\n",
       "      <td>-0.798199</td>\n",
       "      <td>-0.392731</td>\n",
       "      <td>4495</td>\n",
       "    </tr>\n",
       "  </tbody>\n",
       "</table>\n",
       "<p>6737 rows × 9 columns</p>\n",
       "</div>"
      ],
      "text/plain": [
       "               model transmission fuelType      year   mileage       tax  \\\n",
       "0               GT86       Manual   Petrol -0.339573  0.064348  2.305193   \n",
       "1               GT86       Manual   Petrol  0.114156 -0.221869  0.680757   \n",
       "2               GT86       Manual   Petrol -0.793302  0.241077  2.305193   \n",
       "3               GT86       Manual   Petrol  0.114156 -0.424690  0.748442   \n",
       "4               GT86       Manual   Petrol  0.114156  0.701984  0.680757   \n",
       "...              ...          ...      ...       ...       ...       ...   \n",
       "6733              IQ    Automatic   Petrol -2.608217  0.373415 -1.011365   \n",
       "6734   Urban Cruiser       Manual   Petrol -2.608217  0.695187  0.410017   \n",
       "6735   Urban Cruiser       Manual   Diesel -2.154488  1.210002  0.410017   \n",
       "6736   Urban Cruiser       Manual   Petrol -2.608217  1.978617  0.410017   \n",
       "6737   Urban Cruiser       Manual   Petrol -2.608217  1.164408  0.410017   \n",
       "\n",
       "           mpg  engineSize  price  \n",
       "0    -1.694909    1.212190  16000  \n",
       "1    -1.694909    1.212190  15995  \n",
       "2    -1.694909    1.212190  13998  \n",
       "3    -1.694909    1.212190  18998  \n",
       "4    -1.694909    1.212190  17498  \n",
       "...        ...         ...    ...  \n",
       "6733 -0.261435   -1.080554   5500  \n",
       "6734 -0.798199   -0.392731   4985  \n",
       "6735 -0.343529   -0.163456   4995  \n",
       "6736 -0.798199   -0.392731   3995  \n",
       "6737 -0.798199   -0.392731   4495  \n",
       "\n",
       "[6737 rows x 9 columns]"
      ]
     },
     "execution_count": 18,
     "metadata": {},
     "output_type": "execute_result"
    }
   ],
   "source": [
    "df_new"
   ]
  },
  {
   "cell_type": "code",
   "execution_count": 19,
   "metadata": {},
   "outputs": [
    {
     "name": "stdout",
     "output_type": "stream",
     "text": [
      "<class 'pandas.core.frame.DataFrame'>\n",
      "Int64Index: 6737 entries, 0 to 6737\n",
      "Data columns (total 9 columns):\n",
      " #   Column        Non-Null Count  Dtype  \n",
      "---  ------        --------------  -----  \n",
      " 0   model         6737 non-null   object \n",
      " 1   transmission  6737 non-null   object \n",
      " 2   fuelType      6737 non-null   object \n",
      " 3   year          6737 non-null   float64\n",
      " 4   mileage       6737 non-null   float64\n",
      " 5   tax           6737 non-null   float64\n",
      " 6   mpg           6737 non-null   float64\n",
      " 7   engineSize    6737 non-null   float64\n",
      " 8   price         6737 non-null   int64  \n",
      "dtypes: float64(5), int64(1), object(3)\n",
      "memory usage: 526.3+ KB\n"
     ]
    }
   ],
   "source": [
    "df_new.info()"
   ]
  },
  {
   "cell_type": "code",
   "execution_count": 20,
   "metadata": {},
   "outputs": [
    {
     "data": {
      "text/html": [
       "<div>\n",
       "<style scoped>\n",
       "    .dataframe tbody tr th:only-of-type {\n",
       "        vertical-align: middle;\n",
       "    }\n",
       "\n",
       "    .dataframe tbody tr th {\n",
       "        vertical-align: top;\n",
       "    }\n",
       "\n",
       "    .dataframe thead th {\n",
       "        text-align: right;\n",
       "    }\n",
       "</style>\n",
       "<table border=\"1\" class=\"dataframe\">\n",
       "  <thead>\n",
       "    <tr style=\"text-align: right;\">\n",
       "      <th></th>\n",
       "      <th>year</th>\n",
       "      <th>mileage</th>\n",
       "      <th>tax</th>\n",
       "      <th>mpg</th>\n",
       "      <th>engineSize</th>\n",
       "      <th>price</th>\n",
       "      <th>model_ Auris</th>\n",
       "      <th>model_ Avensis</th>\n",
       "      <th>model_ Aygo</th>\n",
       "      <th>model_ C-HR</th>\n",
       "      <th>...</th>\n",
       "      <th>model_ Verso</th>\n",
       "      <th>model_ Verso-S</th>\n",
       "      <th>model_ Yaris</th>\n",
       "      <th>transmission_Automatic</th>\n",
       "      <th>transmission_Manual</th>\n",
       "      <th>transmission_Semi-Auto</th>\n",
       "      <th>fuelType_Diesel</th>\n",
       "      <th>fuelType_Hybrid</th>\n",
       "      <th>fuelType_Other</th>\n",
       "      <th>fuelType_Petrol</th>\n",
       "    </tr>\n",
       "  </thead>\n",
       "  <tbody>\n",
       "    <tr>\n",
       "      <th>0</th>\n",
       "      <td>-0.339573</td>\n",
       "      <td>0.064348</td>\n",
       "      <td>2.305193</td>\n",
       "      <td>-1.694909</td>\n",
       "      <td>1.212190</td>\n",
       "      <td>16000</td>\n",
       "      <td>0</td>\n",
       "      <td>0</td>\n",
       "      <td>0</td>\n",
       "      <td>0</td>\n",
       "      <td>...</td>\n",
       "      <td>0</td>\n",
       "      <td>0</td>\n",
       "      <td>0</td>\n",
       "      <td>0</td>\n",
       "      <td>1</td>\n",
       "      <td>0</td>\n",
       "      <td>0</td>\n",
       "      <td>0</td>\n",
       "      <td>0</td>\n",
       "      <td>1</td>\n",
       "    </tr>\n",
       "    <tr>\n",
       "      <th>1</th>\n",
       "      <td>0.114156</td>\n",
       "      <td>-0.221869</td>\n",
       "      <td>0.680757</td>\n",
       "      <td>-1.694909</td>\n",
       "      <td>1.212190</td>\n",
       "      <td>15995</td>\n",
       "      <td>0</td>\n",
       "      <td>0</td>\n",
       "      <td>0</td>\n",
       "      <td>0</td>\n",
       "      <td>...</td>\n",
       "      <td>0</td>\n",
       "      <td>0</td>\n",
       "      <td>0</td>\n",
       "      <td>0</td>\n",
       "      <td>1</td>\n",
       "      <td>0</td>\n",
       "      <td>0</td>\n",
       "      <td>0</td>\n",
       "      <td>0</td>\n",
       "      <td>1</td>\n",
       "    </tr>\n",
       "    <tr>\n",
       "      <th>2</th>\n",
       "      <td>-0.793302</td>\n",
       "      <td>0.241077</td>\n",
       "      <td>2.305193</td>\n",
       "      <td>-1.694909</td>\n",
       "      <td>1.212190</td>\n",
       "      <td>13998</td>\n",
       "      <td>0</td>\n",
       "      <td>0</td>\n",
       "      <td>0</td>\n",
       "      <td>0</td>\n",
       "      <td>...</td>\n",
       "      <td>0</td>\n",
       "      <td>0</td>\n",
       "      <td>0</td>\n",
       "      <td>0</td>\n",
       "      <td>1</td>\n",
       "      <td>0</td>\n",
       "      <td>0</td>\n",
       "      <td>0</td>\n",
       "      <td>0</td>\n",
       "      <td>1</td>\n",
       "    </tr>\n",
       "    <tr>\n",
       "      <th>3</th>\n",
       "      <td>0.114156</td>\n",
       "      <td>-0.424690</td>\n",
       "      <td>0.748442</td>\n",
       "      <td>-1.694909</td>\n",
       "      <td>1.212190</td>\n",
       "      <td>18998</td>\n",
       "      <td>0</td>\n",
       "      <td>0</td>\n",
       "      <td>0</td>\n",
       "      <td>0</td>\n",
       "      <td>...</td>\n",
       "      <td>0</td>\n",
       "      <td>0</td>\n",
       "      <td>0</td>\n",
       "      <td>0</td>\n",
       "      <td>1</td>\n",
       "      <td>0</td>\n",
       "      <td>0</td>\n",
       "      <td>0</td>\n",
       "      <td>0</td>\n",
       "      <td>1</td>\n",
       "    </tr>\n",
       "    <tr>\n",
       "      <th>4</th>\n",
       "      <td>0.114156</td>\n",
       "      <td>0.701984</td>\n",
       "      <td>0.680757</td>\n",
       "      <td>-1.694909</td>\n",
       "      <td>1.212190</td>\n",
       "      <td>17498</td>\n",
       "      <td>0</td>\n",
       "      <td>0</td>\n",
       "      <td>0</td>\n",
       "      <td>0</td>\n",
       "      <td>...</td>\n",
       "      <td>0</td>\n",
       "      <td>0</td>\n",
       "      <td>0</td>\n",
       "      <td>0</td>\n",
       "      <td>1</td>\n",
       "      <td>0</td>\n",
       "      <td>0</td>\n",
       "      <td>0</td>\n",
       "      <td>0</td>\n",
       "      <td>1</td>\n",
       "    </tr>\n",
       "    <tr>\n",
       "      <th>...</th>\n",
       "      <td>...</td>\n",
       "      <td>...</td>\n",
       "      <td>...</td>\n",
       "      <td>...</td>\n",
       "      <td>...</td>\n",
       "      <td>...</td>\n",
       "      <td>...</td>\n",
       "      <td>...</td>\n",
       "      <td>...</td>\n",
       "      <td>...</td>\n",
       "      <td>...</td>\n",
       "      <td>...</td>\n",
       "      <td>...</td>\n",
       "      <td>...</td>\n",
       "      <td>...</td>\n",
       "      <td>...</td>\n",
       "      <td>...</td>\n",
       "      <td>...</td>\n",
       "      <td>...</td>\n",
       "      <td>...</td>\n",
       "      <td>...</td>\n",
       "    </tr>\n",
       "    <tr>\n",
       "      <th>6733</th>\n",
       "      <td>-2.608217</td>\n",
       "      <td>0.373415</td>\n",
       "      <td>-1.011365</td>\n",
       "      <td>-0.261435</td>\n",
       "      <td>-1.080554</td>\n",
       "      <td>5500</td>\n",
       "      <td>0</td>\n",
       "      <td>0</td>\n",
       "      <td>0</td>\n",
       "      <td>0</td>\n",
       "      <td>...</td>\n",
       "      <td>0</td>\n",
       "      <td>0</td>\n",
       "      <td>0</td>\n",
       "      <td>1</td>\n",
       "      <td>0</td>\n",
       "      <td>0</td>\n",
       "      <td>0</td>\n",
       "      <td>0</td>\n",
       "      <td>0</td>\n",
       "      <td>1</td>\n",
       "    </tr>\n",
       "    <tr>\n",
       "      <th>6734</th>\n",
       "      <td>-2.608217</td>\n",
       "      <td>0.695187</td>\n",
       "      <td>0.410017</td>\n",
       "      <td>-0.798199</td>\n",
       "      <td>-0.392731</td>\n",
       "      <td>4985</td>\n",
       "      <td>0</td>\n",
       "      <td>0</td>\n",
       "      <td>0</td>\n",
       "      <td>0</td>\n",
       "      <td>...</td>\n",
       "      <td>0</td>\n",
       "      <td>0</td>\n",
       "      <td>0</td>\n",
       "      <td>0</td>\n",
       "      <td>1</td>\n",
       "      <td>0</td>\n",
       "      <td>0</td>\n",
       "      <td>0</td>\n",
       "      <td>0</td>\n",
       "      <td>1</td>\n",
       "    </tr>\n",
       "    <tr>\n",
       "      <th>6735</th>\n",
       "      <td>-2.154488</td>\n",
       "      <td>1.210002</td>\n",
       "      <td>0.410017</td>\n",
       "      <td>-0.343529</td>\n",
       "      <td>-0.163456</td>\n",
       "      <td>4995</td>\n",
       "      <td>0</td>\n",
       "      <td>0</td>\n",
       "      <td>0</td>\n",
       "      <td>0</td>\n",
       "      <td>...</td>\n",
       "      <td>0</td>\n",
       "      <td>0</td>\n",
       "      <td>0</td>\n",
       "      <td>0</td>\n",
       "      <td>1</td>\n",
       "      <td>0</td>\n",
       "      <td>1</td>\n",
       "      <td>0</td>\n",
       "      <td>0</td>\n",
       "      <td>0</td>\n",
       "    </tr>\n",
       "    <tr>\n",
       "      <th>6736</th>\n",
       "      <td>-2.608217</td>\n",
       "      <td>1.978617</td>\n",
       "      <td>0.410017</td>\n",
       "      <td>-0.798199</td>\n",
       "      <td>-0.392731</td>\n",
       "      <td>3995</td>\n",
       "      <td>0</td>\n",
       "      <td>0</td>\n",
       "      <td>0</td>\n",
       "      <td>0</td>\n",
       "      <td>...</td>\n",
       "      <td>0</td>\n",
       "      <td>0</td>\n",
       "      <td>0</td>\n",
       "      <td>0</td>\n",
       "      <td>1</td>\n",
       "      <td>0</td>\n",
       "      <td>0</td>\n",
       "      <td>0</td>\n",
       "      <td>0</td>\n",
       "      <td>1</td>\n",
       "    </tr>\n",
       "    <tr>\n",
       "      <th>6737</th>\n",
       "      <td>-2.608217</td>\n",
       "      <td>1.164408</td>\n",
       "      <td>0.410017</td>\n",
       "      <td>-0.798199</td>\n",
       "      <td>-0.392731</td>\n",
       "      <td>4495</td>\n",
       "      <td>0</td>\n",
       "      <td>0</td>\n",
       "      <td>0</td>\n",
       "      <td>0</td>\n",
       "      <td>...</td>\n",
       "      <td>0</td>\n",
       "      <td>0</td>\n",
       "      <td>0</td>\n",
       "      <td>0</td>\n",
       "      <td>1</td>\n",
       "      <td>0</td>\n",
       "      <td>0</td>\n",
       "      <td>0</td>\n",
       "      <td>0</td>\n",
       "      <td>1</td>\n",
       "    </tr>\n",
       "  </tbody>\n",
       "</table>\n",
       "<p>6737 rows × 31 columns</p>\n",
       "</div>"
      ],
      "text/plain": [
       "          year   mileage       tax       mpg  engineSize  price  model_ Auris  \\\n",
       "0    -0.339573  0.064348  2.305193 -1.694909    1.212190  16000             0   \n",
       "1     0.114156 -0.221869  0.680757 -1.694909    1.212190  15995             0   \n",
       "2    -0.793302  0.241077  2.305193 -1.694909    1.212190  13998             0   \n",
       "3     0.114156 -0.424690  0.748442 -1.694909    1.212190  18998             0   \n",
       "4     0.114156  0.701984  0.680757 -1.694909    1.212190  17498             0   \n",
       "...        ...       ...       ...       ...         ...    ...           ...   \n",
       "6733 -2.608217  0.373415 -1.011365 -0.261435   -1.080554   5500             0   \n",
       "6734 -2.608217  0.695187  0.410017 -0.798199   -0.392731   4985             0   \n",
       "6735 -2.154488  1.210002  0.410017 -0.343529   -0.163456   4995             0   \n",
       "6736 -2.608217  1.978617  0.410017 -0.798199   -0.392731   3995             0   \n",
       "6737 -2.608217  1.164408  0.410017 -0.798199   -0.392731   4495             0   \n",
       "\n",
       "      model_ Avensis  model_ Aygo  model_ C-HR  ...  model_ Verso  \\\n",
       "0                  0            0            0  ...             0   \n",
       "1                  0            0            0  ...             0   \n",
       "2                  0            0            0  ...             0   \n",
       "3                  0            0            0  ...             0   \n",
       "4                  0            0            0  ...             0   \n",
       "...              ...          ...          ...  ...           ...   \n",
       "6733               0            0            0  ...             0   \n",
       "6734               0            0            0  ...             0   \n",
       "6735               0            0            0  ...             0   \n",
       "6736               0            0            0  ...             0   \n",
       "6737               0            0            0  ...             0   \n",
       "\n",
       "      model_ Verso-S  model_ Yaris  transmission_Automatic  \\\n",
       "0                  0             0                       0   \n",
       "1                  0             0                       0   \n",
       "2                  0             0                       0   \n",
       "3                  0             0                       0   \n",
       "4                  0             0                       0   \n",
       "...              ...           ...                     ...   \n",
       "6733               0             0                       1   \n",
       "6734               0             0                       0   \n",
       "6735               0             0                       0   \n",
       "6736               0             0                       0   \n",
       "6737               0             0                       0   \n",
       "\n",
       "      transmission_Manual  transmission_Semi-Auto  fuelType_Diesel  \\\n",
       "0                       1                       0                0   \n",
       "1                       1                       0                0   \n",
       "2                       1                       0                0   \n",
       "3                       1                       0                0   \n",
       "4                       1                       0                0   \n",
       "...                   ...                     ...              ...   \n",
       "6733                    0                       0                0   \n",
       "6734                    1                       0                0   \n",
       "6735                    1                       0                1   \n",
       "6736                    1                       0                0   \n",
       "6737                    1                       0                0   \n",
       "\n",
       "      fuelType_Hybrid  fuelType_Other  fuelType_Petrol  \n",
       "0                   0               0                1  \n",
       "1                   0               0                1  \n",
       "2                   0               0                1  \n",
       "3                   0               0                1  \n",
       "4                   0               0                1  \n",
       "...               ...             ...              ...  \n",
       "6733                0               0                1  \n",
       "6734                0               0                1  \n",
       "6735                0               0                0  \n",
       "6736                0               0                1  \n",
       "6737                0               0                1  \n",
       "\n",
       "[6737 rows x 31 columns]"
      ]
     },
     "execution_count": 20,
     "metadata": {},
     "output_type": "execute_result"
    }
   ],
   "source": [
    "# One Hot Encoder categorical variables\n",
    "\n",
    "dummy_df = pd.get_dummies(df_new)\n",
    "dummy_df"
   ]
  },
  {
   "cell_type": "code",
   "execution_count": 21,
   "metadata": {},
   "outputs": [],
   "source": [
    "# import statsmodels library to look through some statistic values\n",
    "\n",
    "import statsmodels.api as sm"
   ]
  },
  {
   "cell_type": "code",
   "execution_count": 22,
   "metadata": {},
   "outputs": [],
   "source": [
    "X = dummy_df.drop(\"price\", axis = 1)\n",
    "y = dummy_df[\"price\"]"
   ]
  },
  {
   "cell_type": "code",
   "execution_count": 23,
   "metadata": {},
   "outputs": [],
   "source": [
    "sm_model = sm.OLS(y, X).fit()"
   ]
  },
  {
   "cell_type": "code",
   "execution_count": 24,
   "metadata": {},
   "outputs": [
    {
     "data": {
      "text/html": [
       "<table class=\"simpletable\">\n",
       "<caption>OLS Regression Results</caption>\n",
       "<tr>\n",
       "  <th>Dep. Variable:</th>          <td>price</td>      <th>  R-squared (uncentered):</th>      <td>   0.985</td> \n",
       "</tr>\n",
       "<tr>\n",
       "  <th>Model:</th>                   <td>OLS</td>       <th>  Adj. R-squared (uncentered):</th> <td>   0.985</td> \n",
       "</tr>\n",
       "<tr>\n",
       "  <th>Method:</th>             <td>Least Squares</td>  <th>  F-statistic:       </th>          <td>1.605e+04</td>\n",
       "</tr>\n",
       "<tr>\n",
       "  <th>Date:</th>             <td>Wed, 14 Oct 2020</td> <th>  Prob (F-statistic):</th>           <td>  0.00</td>  \n",
       "</tr>\n",
       "<tr>\n",
       "  <th>Time:</th>                 <td>10:22:24</td>     <th>  Log-Likelihood:    </th>          <td> -59681.</td> \n",
       "</tr>\n",
       "<tr>\n",
       "  <th>No. Observations:</th>      <td>  6737</td>      <th>  AIC:               </th>          <td>1.194e+05</td>\n",
       "</tr>\n",
       "<tr>\n",
       "  <th>Df Residuals:</th>          <td>  6709</td>      <th>  BIC:               </th>          <td>1.196e+05</td>\n",
       "</tr>\n",
       "<tr>\n",
       "  <th>Df Model:</th>              <td>    28</td>      <th>                     </th>              <td> </td>    \n",
       "</tr>\n",
       "<tr>\n",
       "  <th>Covariance Type:</th>      <td>nonrobust</td>    <th>                     </th>              <td> </td>    \n",
       "</tr>\n",
       "</table>\n",
       "<table class=\"simpletable\">\n",
       "<tr>\n",
       "             <td></td>               <th>coef</th>     <th>std err</th>      <th>t</th>      <th>P>|t|</th>  <th>[0.025</th>    <th>0.975]</th>  \n",
       "</tr>\n",
       "<tr>\n",
       "  <th>year</th>                   <td> 1721.4042</td> <td>   32.058</td> <td>   53.696</td> <td> 0.000</td> <td> 1658.559</td> <td> 1784.249</td>\n",
       "</tr>\n",
       "<tr>\n",
       "  <th>mileage</th>                <td>-1192.1248</td> <td>   32.350</td> <td>  -36.851</td> <td> 0.000</td> <td>-1255.541</td> <td>-1128.709</td>\n",
       "</tr>\n",
       "<tr>\n",
       "  <th>tax</th>                    <td> -279.2013</td> <td>   26.870</td> <td>  -10.391</td> <td> 0.000</td> <td> -331.875</td> <td> -226.528</td>\n",
       "</tr>\n",
       "<tr>\n",
       "  <th>mpg</th>                    <td> -151.8752</td> <td>   32.951</td> <td>   -4.609</td> <td> 0.000</td> <td> -216.470</td> <td>  -87.280</td>\n",
       "</tr>\n",
       "<tr>\n",
       "  <th>engineSize</th>             <td> 1306.9956</td> <td>   74.060</td> <td>   17.648</td> <td> 0.000</td> <td> 1161.815</td> <td> 1452.176</td>\n",
       "</tr>\n",
       "<tr>\n",
       "  <th>model_ Auris</th>           <td>-4331.4820</td> <td>  122.905</td> <td>  -35.242</td> <td> 0.000</td> <td>-4572.416</td> <td>-4090.548</td>\n",
       "</tr>\n",
       "<tr>\n",
       "  <th>model_ Avensis</th>         <td>-3007.8114</td> <td>  182.055</td> <td>  -16.521</td> <td> 0.000</td> <td>-3364.698</td> <td>-2650.925</td>\n",
       "</tr>\n",
       "<tr>\n",
       "  <th>model_ Aygo</th>            <td>-7025.7062</td> <td>  168.695</td> <td>  -41.647</td> <td> 0.000</td> <td>-7356.403</td> <td>-6695.010</td>\n",
       "</tr>\n",
       "<tr>\n",
       "  <th>model_ C-HR</th>            <td> 1227.3108</td> <td>  133.985</td> <td>    9.160</td> <td> 0.000</td> <td>  964.659</td> <td> 1489.963</td>\n",
       "</tr>\n",
       "<tr>\n",
       "  <th>model_ Camry</th>           <td> 2515.1150</td> <td>  504.345</td> <td>    4.987</td> <td> 0.000</td> <td> 1526.438</td> <td> 3503.792</td>\n",
       "</tr>\n",
       "<tr>\n",
       "  <th>model_ Corolla</th>         <td>  669.6692</td> <td>  148.112</td> <td>    4.521</td> <td> 0.000</td> <td>  379.323</td> <td>  960.015</td>\n",
       "</tr>\n",
       "<tr>\n",
       "  <th>model_ GT86</th>            <td> 1853.3566</td> <td>  217.174</td> <td>    8.534</td> <td> 0.000</td> <td> 1427.626</td> <td> 2279.087</td>\n",
       "</tr>\n",
       "<tr>\n",
       "  <th>model_ Hilux</th>           <td> 4020.2366</td> <td>  255.434</td> <td>   15.739</td> <td> 0.000</td> <td> 3519.505</td> <td> 4520.968</td>\n",
       "</tr>\n",
       "<tr>\n",
       "  <th>model_ IQ</th>              <td>-4640.7376</td> <td>  594.754</td> <td>   -7.803</td> <td> 0.000</td> <td>-5806.644</td> <td>-3474.831</td>\n",
       "</tr>\n",
       "<tr>\n",
       "  <th>model_ Land Cruiser</th>    <td> 1.842e+04</td> <td>  333.757</td> <td>   55.198</td> <td> 0.000</td> <td> 1.78e+04</td> <td> 1.91e+04</td>\n",
       "</tr>\n",
       "<tr>\n",
       "  <th>model_ PROACE VERSO</th>    <td> 9251.0190</td> <td>  444.704</td> <td>   20.803</td> <td> 0.000</td> <td> 8379.259</td> <td> 1.01e+04</td>\n",
       "</tr>\n",
       "<tr>\n",
       "  <th>model_ Prius</th>           <td>  655.8939</td> <td>  161.948</td> <td>    4.050</td> <td> 0.000</td> <td>  338.425</td> <td>  973.363</td>\n",
       "</tr>\n",
       "<tr>\n",
       "  <th>model_ RAV4</th>            <td>  576.2189</td> <td>  135.059</td> <td>    4.266</td> <td> 0.000</td> <td>  311.460</td> <td>  840.978</td>\n",
       "</tr>\n",
       "<tr>\n",
       "  <th>model_ Supra</th>           <td> 2.604e+04</td> <td>  524.521</td> <td>   49.638</td> <td> 0.000</td> <td>  2.5e+04</td> <td> 2.71e+04</td>\n",
       "</tr>\n",
       "<tr>\n",
       "  <th>model_ Urban Cruiser</th>   <td>-4338.3383</td> <td>  818.442</td> <td>   -5.301</td> <td> 0.000</td> <td>-5942.744</td> <td>-2733.932</td>\n",
       "</tr>\n",
       "<tr>\n",
       "  <th>model_ Verso</th>           <td>-3127.4334</td> <td>  177.241</td> <td>  -17.645</td> <td> 0.000</td> <td>-3474.881</td> <td>-2779.985</td>\n",
       "</tr>\n",
       "<tr>\n",
       "  <th>model_ Verso-S</th>         <td>-4077.8707</td> <td>  942.802</td> <td>   -4.325</td> <td> 0.000</td> <td>-5926.062</td> <td>-2229.680</td>\n",
       "</tr>\n",
       "<tr>\n",
       "  <th>model_ Yaris</th>           <td>-5888.7363</td> <td>  123.606</td> <td>  -47.641</td> <td> 0.000</td> <td>-6131.043</td> <td>-5646.430</td>\n",
       "</tr>\n",
       "<tr>\n",
       "  <th>transmission_Automatic</th> <td> 9979.0044</td> <td>   81.126</td> <td>  123.006</td> <td> 0.000</td> <td> 9819.972</td> <td> 1.01e+04</td>\n",
       "</tr>\n",
       "<tr>\n",
       "  <th>transmission_Manual</th>    <td> 8757.9676</td> <td>   81.706</td> <td>  107.189</td> <td> 0.000</td> <td> 8597.798</td> <td> 8918.138</td>\n",
       "</tr>\n",
       "<tr>\n",
       "  <th>transmission_Semi-Auto</th> <td> 1.005e+04</td> <td>  118.734</td> <td>   84.662</td> <td> 0.000</td> <td> 9819.469</td> <td> 1.03e+04</td>\n",
       "</tr>\n",
       "<tr>\n",
       "  <th>fuelType_Diesel</th>        <td> 5255.2927</td> <td>  108.080</td> <td>   48.624</td> <td> 0.000</td> <td> 5043.423</td> <td> 5467.163</td>\n",
       "</tr>\n",
       "<tr>\n",
       "  <th>fuelType_Hybrid</th>        <td> 8495.2750</td> <td>  103.621</td> <td>   81.984</td> <td> 0.000</td> <td> 8292.146</td> <td> 8698.404</td>\n",
       "</tr>\n",
       "<tr>\n",
       "  <th>fuelType_Other</th>         <td> 8195.9596</td> <td>  161.804</td> <td>   50.654</td> <td> 0.000</td> <td> 7878.773</td> <td> 8513.146</td>\n",
       "</tr>\n",
       "<tr>\n",
       "  <th>fuelType_Petrol</th>        <td> 6842.6702</td> <td>   74.182</td> <td>   92.242</td> <td> 0.000</td> <td> 6697.251</td> <td> 6988.090</td>\n",
       "</tr>\n",
       "</table>\n",
       "<table class=\"simpletable\">\n",
       "<tr>\n",
       "  <th>Omnibus:</th>       <td>2721.593</td> <th>  Durbin-Watson:     </th> <td>   1.839</td> \n",
       "</tr>\n",
       "<tr>\n",
       "  <th>Prob(Omnibus):</th>  <td> 0.000</td>  <th>  Jarque-Bera (JB):  </th> <td>63640.719</td>\n",
       "</tr>\n",
       "<tr>\n",
       "  <th>Skew:</th>           <td> 1.391</td>  <th>  Prob(JB):          </th> <td>    0.00</td> \n",
       "</tr>\n",
       "<tr>\n",
       "  <th>Kurtosis:</th>       <td>17.798</td>  <th>  Cond. No.          </th> <td>1.17e+16</td> \n",
       "</tr>\n",
       "</table><br/><br/>Warnings:<br/>[1] Standard Errors assume that the covariance matrix of the errors is correctly specified.<br/>[2] The smallest eigenvalue is 1.01e-28. This might indicate that there are<br/>strong multicollinearity problems or that the design matrix is singular."
      ],
      "text/plain": [
       "<class 'statsmodels.iolib.summary.Summary'>\n",
       "\"\"\"\n",
       "                                 OLS Regression Results                                \n",
       "=======================================================================================\n",
       "Dep. Variable:                  price   R-squared (uncentered):                   0.985\n",
       "Model:                            OLS   Adj. R-squared (uncentered):              0.985\n",
       "Method:                 Least Squares   F-statistic:                          1.605e+04\n",
       "Date:                Wed, 14 Oct 2020   Prob (F-statistic):                        0.00\n",
       "Time:                        10:22:24   Log-Likelihood:                         -59681.\n",
       "No. Observations:                6737   AIC:                                  1.194e+05\n",
       "Df Residuals:                    6709   BIC:                                  1.196e+05\n",
       "Df Model:                          28                                                  \n",
       "Covariance Type:            nonrobust                                                  \n",
       "==========================================================================================\n",
       "                             coef    std err          t      P>|t|      [0.025      0.975]\n",
       "------------------------------------------------------------------------------------------\n",
       "year                    1721.4042     32.058     53.696      0.000    1658.559    1784.249\n",
       "mileage                -1192.1248     32.350    -36.851      0.000   -1255.541   -1128.709\n",
       "tax                     -279.2013     26.870    -10.391      0.000    -331.875    -226.528\n",
       "mpg                     -151.8752     32.951     -4.609      0.000    -216.470     -87.280\n",
       "engineSize              1306.9956     74.060     17.648      0.000    1161.815    1452.176\n",
       "model_ Auris           -4331.4820    122.905    -35.242      0.000   -4572.416   -4090.548\n",
       "model_ Avensis         -3007.8114    182.055    -16.521      0.000   -3364.698   -2650.925\n",
       "model_ Aygo            -7025.7062    168.695    -41.647      0.000   -7356.403   -6695.010\n",
       "model_ C-HR             1227.3108    133.985      9.160      0.000     964.659    1489.963\n",
       "model_ Camry            2515.1150    504.345      4.987      0.000    1526.438    3503.792\n",
       "model_ Corolla           669.6692    148.112      4.521      0.000     379.323     960.015\n",
       "model_ GT86             1853.3566    217.174      8.534      0.000    1427.626    2279.087\n",
       "model_ Hilux            4020.2366    255.434     15.739      0.000    3519.505    4520.968\n",
       "model_ IQ              -4640.7376    594.754     -7.803      0.000   -5806.644   -3474.831\n",
       "model_ Land Cruiser     1.842e+04    333.757     55.198      0.000    1.78e+04    1.91e+04\n",
       "model_ PROACE VERSO     9251.0190    444.704     20.803      0.000    8379.259    1.01e+04\n",
       "model_ Prius             655.8939    161.948      4.050      0.000     338.425     973.363\n",
       "model_ RAV4              576.2189    135.059      4.266      0.000     311.460     840.978\n",
       "model_ Supra            2.604e+04    524.521     49.638      0.000     2.5e+04    2.71e+04\n",
       "model_ Urban Cruiser   -4338.3383    818.442     -5.301      0.000   -5942.744   -2733.932\n",
       "model_ Verso           -3127.4334    177.241    -17.645      0.000   -3474.881   -2779.985\n",
       "model_ Verso-S         -4077.8707    942.802     -4.325      0.000   -5926.062   -2229.680\n",
       "model_ Yaris           -5888.7363    123.606    -47.641      0.000   -6131.043   -5646.430\n",
       "transmission_Automatic  9979.0044     81.126    123.006      0.000    9819.972    1.01e+04\n",
       "transmission_Manual     8757.9676     81.706    107.189      0.000    8597.798    8918.138\n",
       "transmission_Semi-Auto  1.005e+04    118.734     84.662      0.000    9819.469    1.03e+04\n",
       "fuelType_Diesel         5255.2927    108.080     48.624      0.000    5043.423    5467.163\n",
       "fuelType_Hybrid         8495.2750    103.621     81.984      0.000    8292.146    8698.404\n",
       "fuelType_Other          8195.9596    161.804     50.654      0.000    7878.773    8513.146\n",
       "fuelType_Petrol         6842.6702     74.182     92.242      0.000    6697.251    6988.090\n",
       "==============================================================================\n",
       "Omnibus:                     2721.593   Durbin-Watson:                   1.839\n",
       "Prob(Omnibus):                  0.000   Jarque-Bera (JB):            63640.719\n",
       "Skew:                           1.391   Prob(JB):                         0.00\n",
       "Kurtosis:                      17.798   Cond. No.                     1.17e+16\n",
       "==============================================================================\n",
       "\n",
       "Warnings:\n",
       "[1] Standard Errors assume that the covariance matrix of the errors is correctly specified.\n",
       "[2] The smallest eigenvalue is 1.01e-28. This might indicate that there are\n",
       "strong multicollinearity problems or that the design matrix is singular.\n",
       "\"\"\""
      ]
     },
     "execution_count": 24,
     "metadata": {},
     "output_type": "execute_result"
    }
   ],
   "source": [
    "sm_model.summary()"
   ]
  },
  {
   "cell_type": "code",
   "execution_count": null,
   "metadata": {},
   "outputs": [],
   "source": []
  },
  {
   "cell_type": "markdown",
   "metadata": {},
   "source": [
    "## Modelling"
   ]
  },
  {
   "cell_type": "code",
   "execution_count": 25,
   "metadata": {},
   "outputs": [],
   "source": [
    "from sklearn.model_selection import cross_val_score, train_test_split, GridSearchCV, cross_val_score\n",
    "from sklearn.metrics import mean_squared_error, r2_score"
   ]
  },
  {
   "cell_type": "code",
   "execution_count": 26,
   "metadata": {},
   "outputs": [],
   "source": [
    "X_train, X_test, y_train, y_test = train_test_split(X,y, test_size = 0.20, random_state = 42)"
   ]
  },
  {
   "cell_type": "code",
   "execution_count": 27,
   "metadata": {},
   "outputs": [
    {
     "data": {
      "text/plain": [
       "(5389, 30)"
      ]
     },
     "execution_count": 27,
     "metadata": {},
     "output_type": "execute_result"
    }
   ],
   "source": [
    "X_train.shape"
   ]
  },
  {
   "cell_type": "code",
   "execution_count": 28,
   "metadata": {},
   "outputs": [
    {
     "data": {
      "text/plain": [
       "(1348, 30)"
      ]
     },
     "execution_count": 28,
     "metadata": {},
     "output_type": "execute_result"
    }
   ],
   "source": [
    "X_test.shape"
   ]
  },
  {
   "cell_type": "code",
   "execution_count": null,
   "metadata": {},
   "outputs": [],
   "source": []
  },
  {
   "cell_type": "code",
   "execution_count": 29,
   "metadata": {},
   "outputs": [],
   "source": [
    "def model_test(model_name): # test models with default parameters\n",
    "    \n",
    "    model = model_name().fit(X_train, y_train)\n",
    "    print(model_name.__name__)\n",
    "    print(\"Train MSE : \", np.sqrt(mean_squared_error(y_train, model.predict(X_train))))\n",
    "    print(\"Test MSE : \", np.sqrt(mean_squared_error(y_test, model.predict(X_test))))\n",
    "    print(\"Train R2 Score : \", model.score(X_train, y_train))\n",
    "    print(\"Test R2 Score : \", model.score(X_test, y_test))"
   ]
  },
  {
   "cell_type": "code",
   "execution_count": 30,
   "metadata": {},
   "outputs": [],
   "source": [
    "def model_tuning(model,parameters): # seach for best parameters for models\n",
    "    \n",
    "    tuned_model = GridSearchCV(model, parameters, cv = 10, scoring = \"neg_mean_squared_error\").fit(X_train, y_train)\n",
    "    return tuned_model.best_params_"
   ]
  },
  {
   "cell_type": "code",
   "execution_count": 31,
   "metadata": {},
   "outputs": [],
   "source": [
    "def model_optimization(model_name, params): # test models with hyperparameters and optimization\n",
    "    \n",
    "    model =  model_name().set_params(**params).fit(X_train, y_train)    \n",
    "    print(\"Tuned Train MSE : \", np.sqrt(mean_squared_error(y_train, model.predict(X_train))))\n",
    "    print(\"Tuned Test MSE : \", np.sqrt(mean_squared_error(y_test, model.predict(X_test))))\n",
    "    print(\"Tuned Train R2 Score : \", model.score(X_train, y_train))\n",
    "    print(\"Tuned Test R2 Score : \", model.score(X_test, y_test))\n",
    "    print(\"--------------------------------\")\n",
    "    return model"
   ]
  },
  {
   "cell_type": "code",
   "execution_count": null,
   "metadata": {},
   "outputs": [],
   "source": []
  },
  {
   "cell_type": "markdown",
   "metadata": {},
   "source": [
    "# Linear Regression"
   ]
  },
  {
   "cell_type": "code",
   "execution_count": 32,
   "metadata": {},
   "outputs": [],
   "source": [
    "from sklearn.linear_model import LinearRegression"
   ]
  },
  {
   "cell_type": "code",
   "execution_count": 33,
   "metadata": {},
   "outputs": [
    {
     "name": "stdout",
     "output_type": "stream",
     "text": [
      "LinearRegression\n",
      "Train MSE :  1687.765500295447\n",
      "Test MSE :  1768.7673947665728\n",
      "Train R2 Score :  0.9287850417625703\n",
      "Test R2 Score :  0.9241083043027996\n"
     ]
    }
   ],
   "source": [
    "model_test(LinearRegression)"
   ]
  },
  {
   "cell_type": "code",
   "execution_count": 34,
   "metadata": {},
   "outputs": [
    {
     "data": {
      "text/plain": [
       "1719.7593251326134"
      ]
     },
     "execution_count": 34,
     "metadata": {},
     "output_type": "execute_result"
    }
   ],
   "source": [
    "# validation score\n",
    "\n",
    "lr_model = LinearRegression()\n",
    "np.sqrt(-cross_val_score(lr_model, X_train, y_train, cv = 10, scoring = \"neg_mean_squared_error\").mean())"
   ]
  },
  {
   "cell_type": "code",
   "execution_count": null,
   "metadata": {},
   "outputs": [],
   "source": []
  },
  {
   "cell_type": "markdown",
   "metadata": {},
   "source": [
    "# Ridge Regression"
   ]
  },
  {
   "cell_type": "code",
   "execution_count": 35,
   "metadata": {},
   "outputs": [],
   "source": [
    "from sklearn.linear_model import Ridge"
   ]
  },
  {
   "cell_type": "code",
   "execution_count": 36,
   "metadata": {},
   "outputs": [
    {
     "name": "stdout",
     "output_type": "stream",
     "text": [
      "Ridge\n",
      "Train MSE :  1694.6654782325238\n",
      "Test MSE :  1769.8863464088581\n",
      "Train R2 Score :  0.9282015648734376\n",
      "Test R2 Score :  0.9240122532353542\n"
     ]
    }
   ],
   "source": [
    "model_test(Ridge)"
   ]
  },
  {
   "cell_type": "code",
   "execution_count": 37,
   "metadata": {},
   "outputs": [
    {
     "data": {
      "text/plain": [
       "0.005"
      ]
     },
     "execution_count": 37,
     "metadata": {},
     "output_type": "execute_result"
    }
   ],
   "source": [
    "# validation score\n",
    "\n",
    "from sklearn.linear_model import RidgeCV\n",
    "lambdas = 10**np.linspace(10,-2,100)*0.5 \n",
    "ridge_cv = RidgeCV(alphas = lambdas, \n",
    "                   scoring = \"neg_mean_squared_error\",\n",
    "                   normalize = True)\n",
    "ridge_cv.fit(X_train, y_train)\n",
    "ridge_cv.alpha_"
   ]
  },
  {
   "cell_type": "code",
   "execution_count": 38,
   "metadata": {},
   "outputs": [],
   "source": [
    "ridge_tuned = Ridge(alpha = ridge_cv.alpha_, \n",
    "                   normalize = True).fit(X_train,y_train)"
   ]
  },
  {
   "cell_type": "code",
   "execution_count": 39,
   "metadata": {},
   "outputs": [
    {
     "data": {
      "text/plain": [
       "1688.1347747818809"
      ]
     },
     "execution_count": 39,
     "metadata": {},
     "output_type": "execute_result"
    }
   ],
   "source": [
    "np.sqrt(mean_squared_error(y_train, ridge_tuned.predict(X_train)))"
   ]
  },
  {
   "cell_type": "code",
   "execution_count": null,
   "metadata": {},
   "outputs": [],
   "source": []
  },
  {
   "cell_type": "markdown",
   "metadata": {},
   "source": [
    "# KNN"
   ]
  },
  {
   "cell_type": "code",
   "execution_count": 40,
   "metadata": {},
   "outputs": [],
   "source": [
    "from sklearn.neighbors import KNeighborsRegressor"
   ]
  },
  {
   "cell_type": "code",
   "execution_count": 41,
   "metadata": {},
   "outputs": [
    {
     "name": "stdout",
     "output_type": "stream",
     "text": [
      "KNeighborsRegressor\n",
      "Train MSE :  1032.1010695084374\n",
      "Test MSE :  1249.7873099170408\n",
      "Train R2 Score :  0.9733687550182705\n",
      "Test R2 Score :  0.9621099629395558\n"
     ]
    }
   ],
   "source": [
    "model_test(KNeighborsRegressor)"
   ]
  },
  {
   "cell_type": "code",
   "execution_count": 42,
   "metadata": {},
   "outputs": [
    {
     "data": {
      "text/plain": [
       "{'n_neighbors': 6}"
      ]
     },
     "execution_count": 42,
     "metadata": {},
     "output_type": "execute_result"
    }
   ],
   "source": [
    "# model hyperparameter\n",
    "\n",
    "knn_model = KNeighborsRegressor()\n",
    "knn_params = {\"n_neighbors\" : range(2,30)}\n",
    "best_parameters = model_tuning(knn_model, knn_params)\n",
    "best_parameters"
   ]
  },
  {
   "cell_type": "code",
   "execution_count": 43,
   "metadata": {},
   "outputs": [
    {
     "name": "stdout",
     "output_type": "stream",
     "text": [
      "Tuned Train MSE :  1079.2466038434357\n",
      "Tuned Test MSE :  1249.6140308084096\n",
      "Tuned Train R2 Score :  0.9708801995242725\n",
      "Tuned Test R2 Score :  0.9621204688818854\n",
      "--------------------------------\n"
     ]
    },
    {
     "data": {
      "text/plain": [
       "KNeighborsRegressor(n_neighbors=6)"
      ]
     },
     "execution_count": 43,
     "metadata": {},
     "output_type": "execute_result"
    }
   ],
   "source": [
    "# tuned model results\n",
    "\n",
    "knn_tuned = model_optimization(KNeighborsRegressor, best_parameters)\n",
    "knn_tuned"
   ]
  },
  {
   "cell_type": "code",
   "execution_count": null,
   "metadata": {},
   "outputs": [],
   "source": []
  },
  {
   "cell_type": "markdown",
   "metadata": {},
   "source": [
    "# SVR"
   ]
  },
  {
   "cell_type": "code",
   "execution_count": 44,
   "metadata": {},
   "outputs": [],
   "source": [
    "from sklearn.svm import SVR"
   ]
  },
  {
   "cell_type": "code",
   "execution_count": 45,
   "metadata": {},
   "outputs": [
    {
     "name": "stdout",
     "output_type": "stream",
     "text": [
      "SVR\n",
      "Train MSE :  6279.976241062273\n",
      "Test MSE :  6464.782821073276\n",
      "Train R2 Score :  0.014031557445618015\n",
      "Test R2 Score :  -0.013819611968437062\n"
     ]
    }
   ],
   "source": [
    "model_test(SVR)"
   ]
  },
  {
   "cell_type": "code",
   "execution_count": 46,
   "metadata": {},
   "outputs": [
    {
     "data": {
      "text/plain": [
       "{'C': 1000, 'tol': 0.1}"
      ]
     },
     "execution_count": 46,
     "metadata": {},
     "output_type": "execute_result"
    }
   ],
   "source": [
    "svr_model = SVR(kernel = \"linear\")\n",
    "svr_params = {\"C\" : [100,1000],\n",
    "             \"tol\" : [0.1,0.01]}\n",
    "best_parameters = model_tuning(svr_model, svr_params)\n",
    "best_parameters"
   ]
  },
  {
   "cell_type": "code",
   "execution_count": 47,
   "metadata": {},
   "outputs": [
    {
     "name": "stdout",
     "output_type": "stream",
     "text": [
      "Tuned Train MSE :  1613.3016545412436\n",
      "Tuned Test MSE :  1532.5524858073036\n",
      "Tuned Train R2 Score :  0.9349303947680274\n",
      "Tuned Test R2 Score :  0.9430251064336094\n",
      "--------------------------------\n"
     ]
    },
    {
     "data": {
      "text/plain": [
       "SVR(C=1000, tol=0.1)"
      ]
     },
     "execution_count": 47,
     "metadata": {},
     "output_type": "execute_result"
    }
   ],
   "source": [
    "svr_model = model_optimization(SVR, best_parameters)\n",
    "svr_model"
   ]
  },
  {
   "cell_type": "code",
   "execution_count": null,
   "metadata": {},
   "outputs": [],
   "source": []
  },
  {
   "cell_type": "markdown",
   "metadata": {},
   "source": [
    "# Decision Tree"
   ]
  },
  {
   "cell_type": "code",
   "execution_count": 48,
   "metadata": {},
   "outputs": [],
   "source": [
    "from sklearn.tree import DecisionTreeRegressor"
   ]
  },
  {
   "cell_type": "code",
   "execution_count": 49,
   "metadata": {},
   "outputs": [
    {
     "name": "stdout",
     "output_type": "stream",
     "text": [
      "DecisionTreeRegressor\n",
      "Train MSE :  71.61752646170387\n",
      "Test MSE :  1422.8466214532205\n",
      "Train R2 Score :  0.999871771179364\n",
      "Test R2 Score :  0.9508901075777858\n"
     ]
    }
   ],
   "source": [
    "model_test(DecisionTreeRegressor)"
   ]
  },
  {
   "cell_type": "code",
   "execution_count": 50,
   "metadata": {},
   "outputs": [],
   "source": [
    "cart = DecisionTreeRegressor()\n",
    "cart_params = {\"min_samples_split\": range(2,20),\n",
    "               \"min_samples_leaf\" : range(1,10),\n",
    "               \"max_leaf_nodes\": range(2,10)}"
   ]
  },
  {
   "cell_type": "code",
   "execution_count": 51,
   "metadata": {},
   "outputs": [
    {
     "data": {
      "text/plain": [
       "{'max_leaf_nodes': 9, 'min_samples_leaf': 1, 'min_samples_split': 2}"
      ]
     },
     "execution_count": 51,
     "metadata": {},
     "output_type": "execute_result"
    }
   ],
   "source": [
    "best_parameters = model_tuning(cart, cart_params)\n",
    "best_parameters"
   ]
  },
  {
   "cell_type": "code",
   "execution_count": 52,
   "metadata": {},
   "outputs": [
    {
     "name": "stdout",
     "output_type": "stream",
     "text": [
      "Tuned Train MSE :  2693.172156030441\n",
      "Tuned Test MSE :  2760.1691883019657\n",
      "Tuned Train R2 Score :  0.8186676687106474\n",
      "Tuned Test R2 Score :  0.8151905323966869\n",
      "--------------------------------\n"
     ]
    },
    {
     "data": {
      "text/plain": [
       "DecisionTreeRegressor(max_leaf_nodes=9)"
      ]
     },
     "execution_count": 52,
     "metadata": {},
     "output_type": "execute_result"
    }
   ],
   "source": [
    "cart_tuned = model_optimization(DecisionTreeRegressor, best_parameters)\n",
    "cart_tuned"
   ]
  },
  {
   "cell_type": "code",
   "execution_count": null,
   "metadata": {},
   "outputs": [],
   "source": []
  },
  {
   "cell_type": "markdown",
   "metadata": {},
   "source": [
    "# Random Forest"
   ]
  },
  {
   "cell_type": "code",
   "execution_count": 53,
   "metadata": {},
   "outputs": [],
   "source": [
    "from sklearn.ensemble import RandomForestRegressor"
   ]
  },
  {
   "cell_type": "code",
   "execution_count": 54,
   "metadata": {},
   "outputs": [
    {
     "name": "stdout",
     "output_type": "stream",
     "text": [
      "RandomForestRegressor\n",
      "Train MSE :  477.2045230303011\n",
      "Test MSE :  1180.8742374300873\n",
      "Train R2 Score :  0.9943068042534976\n",
      "Test R2 Score :  0.9661732631695547\n"
     ]
    }
   ],
   "source": [
    "model_test(RandomForestRegressor)"
   ]
  },
  {
   "cell_type": "code",
   "execution_count": 56,
   "metadata": {},
   "outputs": [
    {
     "data": {
      "text/plain": [
       "{'max_features': 20,\n",
       " 'min_samples_leaf': 2,\n",
       " 'min_samples_split': 4,\n",
       " 'n_estimators': 1000}"
      ]
     },
     "execution_count": 56,
     "metadata": {},
     "output_type": "execute_result"
    }
   ],
   "source": [
    "rf_model = RandomForestRegressor()\n",
    "rf_params = {\"max_features\": [10,20,30],\n",
    "             \"min_samples_split\" : [2,4,10],\n",
    "             \"min_samples_leaf\" : [1,2,4],\n",
    "            'n_estimators' : [500, 1000]}\n",
    "best_parameters = model_tuning(rf_model, rf_params)\n",
    "best_parameters"
   ]
  },
  {
   "cell_type": "code",
   "execution_count": 57,
   "metadata": {},
   "outputs": [
    {
     "name": "stdout",
     "output_type": "stream",
     "text": [
      "Tuned Train MSE :  771.915467450667\n",
      "Tuned Test MSE :  1122.3438297516227\n",
      "Tuned Train R2 Score :  0.985103422508419\n",
      "Tuned Test R2 Score :  0.9694434262908413\n",
      "--------------------------------\n"
     ]
    },
    {
     "data": {
      "text/plain": [
       "RandomForestRegressor(max_features=20, min_samples_leaf=2, min_samples_split=4,\n",
       "                      n_estimators=1000)"
      ]
     },
     "execution_count": 57,
     "metadata": {},
     "output_type": "execute_result"
    }
   ],
   "source": [
    "rf_tuned = model_optimization(RandomForestRegressor, best_parameters)\n",
    "rf_tuned"
   ]
  },
  {
   "cell_type": "code",
   "execution_count": null,
   "metadata": {},
   "outputs": [],
   "source": []
  },
  {
   "cell_type": "markdown",
   "metadata": {},
   "source": [
    "# XGBoost"
   ]
  },
  {
   "cell_type": "code",
   "execution_count": 58,
   "metadata": {},
   "outputs": [],
   "source": [
    "from xgboost import XGBRegressor"
   ]
  },
  {
   "cell_type": "code",
   "execution_count": 59,
   "metadata": {},
   "outputs": [
    {
     "name": "stdout",
     "output_type": "stream",
     "text": [
      "XGBRegressor\n",
      "Train MSE :  624.3204544823342\n",
      "Test MSE :  1147.226767699657\n",
      "Train R2 Score :  0.9902554420813015\n",
      "Test R2 Score :  0.9680734969674798\n"
     ]
    }
   ],
   "source": [
    "model_test(XGBRegressor)"
   ]
  },
  {
   "cell_type": "code",
   "execution_count": 60,
   "metadata": {},
   "outputs": [
    {
     "data": {
      "text/plain": [
       "{'colsample_bytree': 0.6,\n",
       " 'learning_rate': 0.1,\n",
       " 'max_depth': 5,\n",
       " 'n_estimators': 300}"
      ]
     },
     "execution_count": 60,
     "metadata": {},
     "output_type": "execute_result"
    }
   ],
   "source": [
    "xgb_model = XGBRegressor()\n",
    "xgb_params = {'colsample_bytree': [0.4,0.5,0.6,0.9,1], \n",
    "     'n_estimators':[300, 500, 1000],\n",
    "     'max_depth': [2,3,5,6],\n",
    "     'learning_rate': [0.1, 0.01, 0.3]}\n",
    "best_parameters = model_tuning(xgb_model, xgb_params)\n",
    "best_parameters"
   ]
  },
  {
   "cell_type": "code",
   "execution_count": 62,
   "metadata": {},
   "outputs": [
    {
     "name": "stdout",
     "output_type": "stream",
     "text": [
      "Tuned Train MSE :  777.5347175809381\n",
      "Tuned Test MSE :  1110.7520936234323\n",
      "Tuned Train R2 Score :  0.984885750293696\n",
      "Tuned Test R2 Score :  0.9700713525916607\n",
      "--------------------------------\n"
     ]
    },
    {
     "data": {
      "text/plain": [
       "XGBRegressor(base_score=0.5, booster='gbtree', colsample_bylevel=1,\n",
       "             colsample_bynode=1, colsample_bytree=0.6, gamma=0, gpu_id=-1,\n",
       "             importance_type='gain', interaction_constraints='',\n",
       "             learning_rate=0.1, max_delta_step=0, max_depth=5,\n",
       "             min_child_weight=1, missing=nan, monotone_constraints='()',\n",
       "             n_estimators=300, n_jobs=0, num_parallel_tree=1, random_state=0,\n",
       "             reg_alpha=0, reg_lambda=1, scale_pos_weight=1, subsample=1,\n",
       "             tree_method='exact', validate_parameters=1, verbosity=None)"
      ]
     },
     "execution_count": 62,
     "metadata": {},
     "output_type": "execute_result"
    }
   ],
   "source": [
    "xgb_tuned = model_optimization(XGBRegressor, best_parameters)\n",
    "xgb_tuned"
   ]
  },
  {
   "cell_type": "code",
   "execution_count": null,
   "metadata": {},
   "outputs": [],
   "source": []
  },
  {
   "cell_type": "markdown",
   "metadata": {},
   "source": [
    "# LightGBM"
   ]
  },
  {
   "cell_type": "code",
   "execution_count": 62,
   "metadata": {},
   "outputs": [],
   "source": [
    "from lightgbm import LGBMRegressor"
   ]
  },
  {
   "cell_type": "code",
   "execution_count": 63,
   "metadata": {},
   "outputs": [
    {
     "name": "stdout",
     "output_type": "stream",
     "text": [
      "LGBMRegressor\n",
      "Train MSE :  973.330234754285\n",
      "Test MSE :  1115.124387541962\n",
      "Train R2 Score :  0.976315324338811\n",
      "Test R2 Score :  0.9698352704053933\n"
     ]
    }
   ],
   "source": [
    "model_test(LGBMRegressor)"
   ]
  },
  {
   "cell_type": "code",
   "execution_count": 64,
   "metadata": {},
   "outputs": [
    {
     "data": {
      "text/plain": [
       "{'colsample_bytree': 0.6,\n",
       " 'learning_rate': 0.01,\n",
       " 'max_depth': 20,\n",
       " 'n_estimators': 1000}"
      ]
     },
     "execution_count": 64,
     "metadata": {},
     "output_type": "execute_result"
    }
   ],
   "source": [
    "lgb_model = LGBMRegressor()\n",
    "lgb_params = {\n",
    "    'colsample_bytree': [0.4, 0.5,0.6,0.9,1],\n",
    "    'learning_rate': [0.01, 0.1, 0.2, 1],\n",
    "    'n_estimators': [300, 500,1000],\n",
    "    'max_depth': [3,5,10,20]}\n",
    "\n",
    "best_parameters = model_tuning(lgb_model, lgb_params)\n",
    "best_parameters"
   ]
  },
  {
   "cell_type": "code",
   "execution_count": 65,
   "metadata": {},
   "outputs": [
    {
     "name": "stdout",
     "output_type": "stream",
     "text": [
      "Tuned Train MSE :  980.9097878906575\n",
      "Tuned Test MSE :  1106.6615771335432\n",
      "Tuned Train R2 Score :  0.9759450117136563\n",
      "Tuned Test R2 Score :  0.9702913804529107\n",
      "--------------------------------\n"
     ]
    },
    {
     "data": {
      "text/plain": [
       "LGBMRegressor(colsample_bytree=0.6, learning_rate=0.01, max_depth=20,\n",
       "              n_estimators=1000)"
      ]
     },
     "execution_count": 65,
     "metadata": {},
     "output_type": "execute_result"
    }
   ],
   "source": [
    "lgb_tuned = model_optimization(LGBMRegressor, best_parameters)\n",
    "lgb_tuned"
   ]
  },
  {
   "cell_type": "code",
   "execution_count": null,
   "metadata": {},
   "outputs": [],
   "source": []
  },
  {
   "cell_type": "markdown",
   "metadata": {},
   "source": [
    "# Gradient Boosting"
   ]
  },
  {
   "cell_type": "code",
   "execution_count": 66,
   "metadata": {},
   "outputs": [],
   "source": [
    "from sklearn.ensemble import GradientBoostingRegressor"
   ]
  },
  {
   "cell_type": "code",
   "execution_count": 67,
   "metadata": {},
   "outputs": [
    {
     "name": "stdout",
     "output_type": "stream",
     "text": [
      "GradientBoostingRegressor\n",
      "Train MSE :  1097.381715606139\n",
      "Test MSE :  1218.8255794174102\n",
      "Train R2 Score :  0.969893348661216\n",
      "Test R2 Score :  0.9639640538599941\n"
     ]
    }
   ],
   "source": [
    "model_test(GradientBoostingRegressor)"
   ]
  },
  {
   "cell_type": "code",
   "execution_count": 68,
   "metadata": {},
   "outputs": [
    {
     "data": {
      "text/plain": [
       "{'learning_rate': 0.1, 'max_depth': 3, 'n_estimators': 500, 'subsample': 1}"
      ]
     },
     "execution_count": 68,
     "metadata": {},
     "output_type": "execute_result"
    }
   ],
   "source": [
    "gbm_model = GradientBoostingRegressor()\n",
    "gbm_params = {'learning_rate': [0.001, 0.1, 0.01],\n",
    "    'max_depth': [3,8,20],\n",
    "    'n_estimators': [300, 500, 1000],\n",
    "    'subsample': [1,0.5,0.75]}\n",
    "best_parameters = model_tuning(gbm_model, gbm_params)\n",
    "best_parameters"
   ]
  },
  {
   "cell_type": "code",
   "execution_count": 69,
   "metadata": {},
   "outputs": [
    {
     "name": "stdout",
     "output_type": "stream",
     "text": [
      "Tuned Train MSE :  867.3831108269671\n",
      "Tuned Test MSE :  1124.902048775644\n",
      "Tuned Train R2 Score :  0.9811908601006011\n",
      "Tuned Test R2 Score :  0.9693039690316347\n",
      "--------------------------------\n"
     ]
    },
    {
     "data": {
      "text/plain": [
       "GradientBoostingRegressor(n_estimators=500, subsample=1)"
      ]
     },
     "execution_count": 69,
     "metadata": {},
     "output_type": "execute_result"
    }
   ],
   "source": [
    "gbm_tuned = model_optimization(GradientBoostingRegressor, best_parameters)\n",
    "gbm_tuned"
   ]
  },
  {
   "cell_type": "code",
   "execution_count": null,
   "metadata": {},
   "outputs": [],
   "source": []
  },
  {
   "cell_type": "code",
   "execution_count": null,
   "metadata": {},
   "outputs": [],
   "source": []
  },
  {
   "cell_type": "markdown",
   "metadata": {},
   "source": [
    "Better performance is from XGBoost model"
   ]
  },
  {
   "cell_type": "markdown",
   "metadata": {},
   "source": [
    "## Model Evaluate"
   ]
  },
  {
   "cell_type": "code",
   "execution_count": 71,
   "metadata": {},
   "outputs": [
    {
     "data": {
      "text/plain": [
       "Index(['year', 'mileage', 'tax', 'mpg', 'engineSize', 'model_ Auris',\n",
       "       'model_ Avensis', 'model_ Aygo', 'model_ C-HR', 'model_ Camry',\n",
       "       'model_ Corolla', 'model_ GT86', 'model_ Hilux', 'model_ IQ',\n",
       "       'model_ Land Cruiser', 'model_ PROACE VERSO', 'model_ Prius',\n",
       "       'model_ RAV4', 'model_ Supra', 'model_ Urban Cruiser', 'model_ Verso',\n",
       "       'model_ Verso-S', 'model_ Yaris', 'transmission_Automatic',\n",
       "       'transmission_Manual', 'transmission_Semi-Auto', 'fuelType_Diesel',\n",
       "       'fuelType_Hybrid', 'fuelType_Other', 'fuelType_Petrol'],\n",
       "      dtype='object')"
      ]
     },
     "execution_count": 71,
     "metadata": {},
     "output_type": "execute_result"
    }
   ],
   "source": [
    "col_names = X_train.columns\n",
    "col_names"
   ]
  },
  {
   "cell_type": "code",
   "execution_count": 72,
   "metadata": {},
   "outputs": [
    {
     "data": {
      "text/plain": [
       "array([4.55467440e-02, 1.14179039e-02, 6.71170605e-03, 9.42802057e-03,\n",
       "       2.58460253e-01, 4.93608713e-02, 8.65083933e-03, 4.15397212e-02,\n",
       "       4.64297011e-02, 3.93277546e-03, 8.93217046e-03, 1.26334578e-02,\n",
       "       4.84996010e-03, 9.33824922e-05, 1.14402682e-01, 5.72050782e-03,\n",
       "       1.21508185e-02, 1.15375640e-02, 5.31842560e-02, 3.94616873e-05,\n",
       "       5.26927970e-03, 1.68798433e-05, 2.19718982e-02, 6.95839571e-03,\n",
       "       1.42114490e-01, 2.42589358e-02, 1.73365679e-02, 5.36252046e-03,\n",
       "       1.05786754e-03, 7.06303269e-02], dtype=float32)"
      ]
     },
     "execution_count": 72,
     "metadata": {},
     "output_type": "execute_result"
    }
   ],
   "source": [
    "xgb_tuned.feature_importances_"
   ]
  },
  {
   "cell_type": "code",
   "execution_count": 73,
   "metadata": {},
   "outputs": [
    {
     "data": {
      "text/plain": [
       "year                       4.554675\n",
       "mileage                    1.141790\n",
       "tax                        0.671171\n",
       "mpg                        0.942802\n",
       "engineSize                25.846025\n",
       "model_ Auris               4.936087\n",
       "model_ Avensis             0.865084\n",
       "model_ Aygo                4.153972\n",
       "model_ C-HR                4.642970\n",
       "model_ Camry               0.393278\n",
       "model_ Corolla             0.893217\n",
       "model_ GT86                1.263346\n",
       "model_ Hilux               0.484996\n",
       "model_ IQ                  0.009338\n",
       "model_ Land Cruiser       11.440269\n",
       "model_ PROACE VERSO        0.572051\n",
       "model_ Prius               1.215082\n",
       "model_ RAV4                1.153756\n",
       "model_ Supra               5.318426\n",
       "model_ Urban Cruiser       0.003946\n",
       "model_ Verso               0.526928\n",
       "model_ Verso-S             0.001688\n",
       "model_ Yaris               2.197190\n",
       "transmission_Automatic     0.695840\n",
       "transmission_Manual       14.211449\n",
       "transmission_Semi-Auto     2.425894\n",
       "fuelType_Diesel            1.733657\n",
       "fuelType_Hybrid            0.536252\n",
       "fuelType_Other             0.105787\n",
       "fuelType_Petrol            7.063033\n",
       "dtype: float32"
      ]
     },
     "execution_count": 73,
     "metadata": {},
     "output_type": "execute_result"
    }
   ],
   "source": [
    "# feature importance data\n",
    "\n",
    "importance = pd.Series(data = xgb_tuned.feature_importances_, index = col_names)\n",
    "importance *= 100\n",
    "importance"
   ]
  },
  {
   "cell_type": "code",
   "execution_count": 74,
   "metadata": {},
   "outputs": [
    {
     "data": {
      "image/png": "[encoded data removed]",
      "text/plain": [
       "<Figure size 720x576 with 1 Axes>"
      ]
     },
     "metadata": {
      "needs_background": "light"
     },
     "output_type": "display_data"
    }
   ],
   "source": [
    "# plotting\n",
    "\n",
    "plt.figure(figsize = (10,8))\n",
    "\n",
    "ax = importance.sort_values().plot(kind = \"barh\", color = \"r\");\n",
    "\n",
    "ax.yaxis.set_tick_params(labelsize=15)\n",
    "\n",
    "plt.title(\"Feature importance rank\", fontsize = 15, fontweight = \"bold\", color = \"b\");"
   ]
  },
  {
   "cell_type": "code",
   "execution_count": null,
   "metadata": {},
   "outputs": [],
   "source": []
  },
  {
   "cell_type": "code",
   "execution_count": 75,
   "metadata": {},
   "outputs": [
    {
     "data": {
      "text/plain": [
       "array([32843.395 ,  6195.2124, 10741.134 , ..., 10532.086 ,  6478.4683,\n",
       "        7929.535 ], dtype=float32)"
      ]
     },
     "execution_count": 75,
     "metadata": {},
     "output_type": "execute_result"
    }
   ],
   "source": [
    "y_pred = xgb_tuned.predict(X_test)\n",
    "y_pred"
   ]
  },
  {
   "cell_type": "code",
   "execution_count": 76,
   "metadata": {},
   "outputs": [
    {
     "data": {
      "text/plain": [
       "381     37440\n",
       "2477     5999\n",
       "2856    11440\n",
       "2018     8995\n",
       "2185    11000\n",
       "Name: price, dtype: int64"
      ]
     },
     "execution_count": 76,
     "metadata": {},
     "output_type": "execute_result"
    }
   ],
   "source": [
    "y_test.head()"
   ]
  },
  {
   "cell_type": "code",
   "execution_count": 77,
   "metadata": {},
   "outputs": [
    {
     "data": {
      "text/plain": [
       "Text(0.5, 1.0, 'M')"
      ]
     },
     "execution_count": 77,
     "metadata": {},
     "output_type": "execute_result"
    },
    {
     "data": {
      "image/png": "[encoded data removed]",
      "text/plain": [
       "<Figure size 864x720 with 1 Axes>"
      ]
     },
     "metadata": {
      "needs_background": "light"
     },
     "output_type": "display_data"
    }
   ],
   "source": [
    "# plotting actual and predicted values as line plot\n",
    "\n",
    "fig, ax = plt.subplots(figsize = (12,10))\n",
    "\n",
    "ax = plt.plot(y_pred[:50], label = \"Actual\", color = \"r\")\n",
    "ax = plt.plot(y_test.values[:50], label = \"Predicted\", color = \"g\")\n",
    "\n",
    "legend_properties = {\"weight\":\"bold\", \"size\" : 15}\n",
    "plt.legend(prop = legend_properties);\n",
    "\n",
    "plt.title(\"M\")"
   ]
  },
  {
   "cell_type": "code",
   "execution_count": null,
   "metadata": {},
   "outputs": [],
   "source": []
  },
  {
   "cell_type": "code",
   "execution_count": 78,
   "metadata": {},
   "outputs": [
    {
     "data": {
      "image/png": "[encoded data removed]",
      "text/plain": [
       "<Figure size 720x576 with 1 Axes>"
      ]
     },
     "metadata": {
      "needs_background": "light"
     },
     "output_type": "display_data"
    }
   ],
   "source": [
    "# scatter plot between y_test and y_pred data\n",
    "\n",
    "plt.figure(figsize = (10,8))\n",
    "plt.scatter(y_test, y_pred, alpha=0.2)\n",
    "plt.xlabel(\"Actual\",size=20, color = \"brown\", fontweight = \"bold\")\n",
    "plt.ylabel(\"Predicted\",size=20, color = \"brown\", fontweight = \"bold\")\n",
    "plt.show()"
   ]
  },
  {
   "cell_type": "code",
   "execution_count": null,
   "metadata": {},
   "outputs": [],
   "source": []
  },
  {
   "cell_type": "code",
   "execution_count": null,
   "metadata": {},
   "outputs": [],
   "source": []
  }
 ],
 "metadata": {
  "kernelspec": {
   "display_name": "Python 3",
   "language": "python",
   "name": "python3"
  },
  "language_info": {
   "codemirror_mode": {
    "name": "ipython",
    "version": 3
   },
   "file_extension": ".py",
   "mimetype": "text/x-python",
   "name": "python",
   "nbconvert_exporter": "python",
   "pygments_lexer": "ipython3",
   "version": "3.8.5"
  }
 },
 "nbformat": 4,
 "nbformat_minor": 4
}
